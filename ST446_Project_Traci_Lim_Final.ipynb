{
 "cells": [
  {
   "cell_type": "markdown",
   "metadata": {
    "deletable": true,
    "editable": true
   },
   "source": [
    "# ST446 Final Project\n",
    "---"
   ]
  },
  {
   "cell_type": "markdown",
   "metadata": {
    "deletable": true,
    "editable": true
   },
   "source": [
    "### Building Scalable Machine Learning Pipelines for Click Predictions\n",
    "**By: Traci Lim**\n",
    "\n",
    "## Abstract\n",
    "\n",
    "Machine learning is continuously at the forefront of any data-driven industry, it is all about providing consumers and businesses valuable insight. Traditional machine learning approaches, which were developed based on the assumption that data fits entirely into memory, no longer remain relevant in the proliferation of big data. Scalability, to put it in a crude sense, is all about being able to take one piece of code, and then throw any number of computers at it to make it fast. Scalable machine learning is at the forefront now, where it brought a wave of competitive cloud computing services, state-of-the-art scalable algorithms, and cluster computing open-sourced frameworks. This report will attempt to predict click-through rate using a parallelized binary classifier, while utilizing Apache Spark's machine learning library MLlib on Azure HDinsight clusters. We will include short expositions on algorithms used, as well as fairly detailed commentaries on the machine learning process, aimed for the typical machine learning wannabe. Lastly, we share our experience and learning on the distributed performance of algorithms in MLlib.\n",
    "\n"
   ]
  },
  {
   "cell_type": "markdown",
   "metadata": {
    "deletable": true,
    "editable": true
   },
   "source": [
    "---\n",
    "## Table of Contents\n",
    "1. [Data and Objectives](#data-and-objectives)\n",
    "2. [Experimental Setup](#experimental-setup)\n",
    "3. [Methodology](#methodolgy)\n",
    "4. [Machine Learning Process](#machine-learning-process)\n",
    "    1. [Load data](#Load data)\n",
    "    2. [Preliminary analysis and preprocessing](#Preliminary analysis and preprocessing)\n",
    "    3. [Create transformer pipelines](#Create transformer pipelines)\n",
    "    4. [Overview of machine learning algorithms used](#Overview of machine learning algorithms used)\n",
    "    5. [Create estimator and parameter hyper-tuning](#Create estimator and parameter hyper-tuning)\n",
    "    6. [Address the class imbalance problem](#Address the class imbalance problem)\n",
    "    7. [Interpretation of results](#Interpretation of results)\n",
    "5. [Conclusion](#conclusion)\n",
    "6. [References](#references)\n",
    "\n",
    "section links don't work on github jupyter notebooks? :("
   ]
  },
  {
   "cell_type": "markdown",
   "metadata": {
    "deletable": true,
    "editable": true
   },
   "source": [
    "---\n",
    "<a name=\"data-and-objectives\"></a>\n",
    "## Data and Objectives\n",
    "\n",
    "Online display advertising generates a substantial amount of revenue by showing textual or image ads on webpages.  Publishers, like Google and Facebook, get paid by advertisers every time the ad display leads to some desired action such as clicking or purchasing according to the payment options such as cost-per-click (CPC) or cost-per conversion (CPA) [1](#references).\n",
    "\n",
    "Predicting click-through rate (CTR) is critical for the allocation of ads in most online advertising systems because the expected revenue for publishers relies extensively on the product of the bid price and CTR. In this report, we focus the prediction of the CTR of display ads, while managing the following objectives:\n",
    "\n",
    "- Utilize Microsoft Azure HDInsight clusters for large-scale machine learning.\n",
    "- Briefly summarize the key concepts behind algorithms used.\n",
    "- Address the problem of class imbalance by resampling methods.\n",
    "- Give a concise experimental analysis with variations in data and number of worker nodes/partitions, for understanding the scalability and distributed performance of algorithms in MLlib.\n",
    "- Evaluate results and conclude findings.\n",
    "\n",
    "Distributed machine learning involves training a model on a given training data, where every machine only has access to its allocated fraction of the data and some shared information that is periodically exchanged over the network. This periodic exchange of information is what what makes the distributed process challenging. **Apache Spark** has programming frameworks and libraries that are designed to simplify the implementation of distributed algorithms. Its framework for data parallelism and model parallelism makes it suitable for large scale machine learning tasks, which can be scaled conveniently over clusters to obtain advantageous speedups. \n",
    "\n",
    "The dataset is  a portion of Criteo's traffic over a period of 24 days, where each row correspond to a display ad served by Criteo and the first column indicates whether the ad has been clicked or not. The following summarizes the specifications.\n",
    "\n",
    "| Data                    | Criteo Terabyte Click Logs                                   |\n",
    "| ----------------------- | ------------------------------------------------------------ |\n",
    "| Size                    | 370GB of gzip compressed,  1.3TB TSV uncompressed            |\n",
    "| No. of Instances        | 4.3 billion                                                  |\n",
    "| No. of features         | 13 numeric, 26 categorical                                   |\n",
    "| Description of features | Semantic of these features is undisclosed (Categorical features were hashed onto 32 bits for anonymity). |\n",
    "| Label                   | Positive (1, clicked), Negative (0, non-clicked)             |"
   ]
  },
  {
   "cell_type": "markdown",
   "metadata": {
    "deletable": true,
    "editable": true
   },
   "source": [
    "---\n",
    "<a name=\"experimental-setup\"></a>"
   ]
  },
  {
   "cell_type": "markdown",
   "metadata": {
    "deletable": true,
    "editable": true
   },
   "source": [
    "## Experimental Setup\n",
    "\n",
    "We will utilize a Spark cluster on Azure HDInsight, which creates Azure compute resources with Spark installed and configured. In HDInsight, Spark runs using the YARN cluster manager, which allocates work nodes resources to an application. It is easy to create a Spark cluster on HDInsight, the steps are well illustrated here.[2] \n",
    "\n",
    "\n",
    "![clustersetup](clustersetup.png)\n",
    "\n",
    "All machine learning attempts in this report will be executed using Apache Spark's machine learning library, MLlib. As of Spark 2.0, the RDD-based APIs in the MLlib package have entered maintenance mode because MLlib is making the switch to the Dataframe-based API based on the Spark ML package. In this case, we will adopt the same Dataframe-API for this project, because it encompasses many added benefits over it's predecessor, namely, the implementation of Catalyst optimizer[3] and Tungsten encoders[4]. \n",
    "\n",
    "To configure the Spark application to use up as much of the cluster setup as possible, we ran a long series of tests on different configurations, and finalized the scores below. They were mostly based on a helpful articles about resource tuning and parallelism[21][27]. \n",
    "\n",
    "Cluster specifications table:\n",
    "\n",
    "|         Cluster type         | Cores per Head Node | Cores per Worker Node | Memory per Node (Head, Worker) | Total Cores |    No. of Nodes    |\n",
    "| :--------------------------: | :-----------------: | :-------------------: | :----------------------------: | :---------: | :----------------: |\n",
    "| Spark 2.1 on Linux (HDI 3.6) |          4          |           8           |         (28GiB, 56GiB)         |     40      | 2x Head, 4x Worker |\n",
    "\n",
    "Spark configuration options table:\n",
    "\n",
    "\n",
    "| Master                                 | Yarn Cilent |\n",
    "| -------------------------------------- | ----------- |\n",
    "| `yarn.nodemanager.resource.memory-mb`  | 56320mb     |\n",
    "| `yarn.nodemanager.resource.cpu-vcores` | 7           |\n",
    "| `num-executors`                        | 6           |\n",
    "| `executor-cores`                       | 4           |\n",
    "| `executor-memory`                      | 11060mb     |\n",
    "| `spark.dynamicAllocation.enabled`      | true        |\n",
    "| `spark.shuffle.service.enabled`        | true        |\n",
    "| `spark.driver.cores`                   | 4           |\n",
    "| `spark.driver.memory`                  | 11060mb     |"
   ]
  },
  {
   "cell_type": "markdown",
   "metadata": {
    "deletable": true,
    "editable": true
   },
   "source": [
    "---\n",
    "<a name=\"methodolgy\"></a>\n",
    "## Methodology\n",
    "\n",
    "![methodologyflowchart](methodologyflowchart.png)\n",
    "\n",
    "Categorical features were one-hot-encoded because certain ML algorithms require features to be numerical. One-hot-encoding is simply the \"binarization\" of categorical features, this encoding technique creates a sparse feature space with extremely high dimensionality, which could cause constraints on the training and testing. A less straightforward solution is *feature hashing*, which is an alternative way to encode categorical features. The `FeatureHasher` function was only newly introduced in Spark 2.3. Since we are using a version of 2.1, we will not delve into this. One can learn more in an educational talk by Nick Pentreath[7]."
   ]
  },
  {
   "cell_type": "markdown",
   "metadata": {
    "deletable": true,
    "editable": true
   },
   "source": [
    "---\n",
    "<a name=\"machine-learning-process\"></a>\n",
    "## Machine Leaning Process\n"
   ]
  },
  {
   "cell_type": "code",
   "execution_count": 1,
   "metadata": {
    "collapsed": false,
    "deletable": true,
    "editable": true
   },
   "outputs": [
    {
     "name": "stdout",
     "output_type": "stream",
     "text": [
      "Starting Spark application\n"
     ]
    },
    {
     "data": {
      "text/html": [
       "<table>\n",
       "<tr><th>ID</th><th>YARN Application ID</th><th>Kind</th><th>State</th><th>Spark UI</th><th>Driver log</th><th>Current session?</th></tr><tr><td>50</td><td>application_1525114708237_0001</td><td>pyspark</td><td>idle</td><td><a target=\"_blank\" href=\"http://hn0-criteo.bpnuxes1nwvehd11gzijstmcdg.zx.internal.cloudapp.net:8088/proxy/application_1525114708237_0001/\">Link</a></td><td><a target=\"_blank\" href=\"http://wn0-criteo.bpnuxes1nwvehd11gzijstmcdg.zx.internal.cloudapp.net:30060/node/containerlogs/container_e05_1525114708237_0001_01_000001/livy\">Link</a></td><td>✔</td></tr></table>"
      ],
      "text/plain": [
       "<IPython.core.display.HTML object>"
      ]
     },
     "metadata": {},
     "output_type": "display_data"
    },
    {
     "name": "stdout",
     "output_type": "stream",
     "text": [
      "SparkSession available as 'spark'.\n",
      "<pyspark.context.SparkContext object at 0x7f2349898390>"
     ]
    }
   ],
   "source": [
    "sc"
   ]
  },
  {
   "cell_type": "code",
   "execution_count": 2,
   "metadata": {
    "collapsed": false,
    "deletable": true,
    "editable": true
   },
   "outputs": [
    {
     "name": "stdout",
     "output_type": "stream",
     "text": [
      "Starting Spark application\n"
     ]
    },
    {
     "data": {
      "text/html": [
       "<table>\n",
       "<tr><th>ID</th><th>YARN Application ID</th><th>Kind</th><th>State</th><th>Spark UI</th><th>Driver log</th><th>Current session?</th></tr><tr><td>51</td><td>application_1525114708237_0002</td><td>pyspark</td><td>idle</td><td><a target=\"_blank\" href=\"http://hn0-criteo.bpnuxes1nwvehd11gzijstmcdg.zx.internal.cloudapp.net:8088/proxy/application_1525114708237_0002/\">Link</a></td><td><a target=\"_blank\" href=\"http://wn0-criteo.bpnuxes1nwvehd11gzijstmcdg.zx.internal.cloudapp.net:30060/node/containerlogs/container_e05_1525114708237_0002_01_000001/livy\">Link</a></td><td>✔</td></tr></table>"
      ],
      "text/plain": [
       "<IPython.core.display.HTML object>"
      ]
     },
     "metadata": {},
     "output_type": "display_data"
    },
    {
     "name": "stdout",
     "output_type": "stream",
     "text": [
      "SparkSession available as 'spark'.\n"
     ]
    },
    {
     "data": {
      "text/html": [
       "Current session configs: <tt>{u'kind': 'pyspark', u'driverMemory': u'11060M', u'numExecutors': 6, u'conf': {u'spark.dynamicAllocation.enabled': u'true', u'spark.default.parallelism': 48, u'yarn.nodemanager.resource.cpu-vcores': 7, u'spark.shuffle.service.enabled': u'true', u'yarn.nodemanager.resource.memory-mb': 56320}, u'executorCores': 4, u'driverCores': 4, u'executorMemory': u'11060M'}</tt><br>"
      ],
      "text/plain": [
       "<IPython.core.display.HTML object>"
      ]
     },
     "metadata": {},
     "output_type": "display_data"
    },
    {
     "data": {
      "text/html": [
       "<table>\n",
       "<tr><th>ID</th><th>YARN Application ID</th><th>Kind</th><th>State</th><th>Spark UI</th><th>Driver log</th><th>Current session?</th></tr><tr><td>51</td><td>application_1525114708237_0002</td><td>pyspark</td><td>idle</td><td><a target=\"_blank\" href=\"http://hn0-criteo.bpnuxes1nwvehd11gzijstmcdg.zx.internal.cloudapp.net:8088/proxy/application_1525114708237_0002/\">Link</a></td><td><a target=\"_blank\" href=\"http://wn0-criteo.bpnuxes1nwvehd11gzijstmcdg.zx.internal.cloudapp.net:30060/node/containerlogs/container_e05_1525114708237_0002_01_000001/livy\">Link</a></td><td>✔</td></tr></table>"
      ],
      "text/plain": [
       "<IPython.core.display.HTML object>"
      ]
     },
     "metadata": {},
     "output_type": "display_data"
    }
   ],
   "source": [
    "# Tuning Spark configurations\n",
    "%%configure -f\n",
    "    {\"executorMemory\": \"11060M\", \"executorCores\": 4, \"numExecutors\":6, \"driverCores\": 4, \"driverMemory\": \"11060M\", \n",
    "     \"conf\": {\"spark.dynamicAllocation.enabled\": \"true\",\n",
    "              \"spark.shuffle.service.enabled\": \"true\",\n",
    "              \"spark.default.parallelism\": 48,\n",
    "              \"yarn.nodemanager.resource.memory-mb\": 56320,\n",
    "              \"yarn.nodemanager.resource.cpu-vcores\": 7}\n",
    "}"
   ]
  },
  {
   "cell_type": "code",
   "execution_count": 5,
   "metadata": {
    "collapsed": false,
    "deletable": true,
    "editable": true
   },
   "outputs": [],
   "source": [
    "from pyspark.sql import Row\n",
    "import pyspark.sql.types as typ\n",
    "from pyspark.sql.types import *\n",
    "from pyspark.ml import Pipeline\n",
    "import pyspark.ml.classification as cl\n",
    "from pyspark.ml.feature import StringIndexer, VectorIndexer, VectorAssembler, SQLTransformer\n",
    "from pyspark.ml.feature import HashingTF\n",
    "from pyspark.ml.evaluation import MulticlassClassificationEvaluator, BinaryClassificationEvaluator\n",
    "from pyspark.ml.tuning import CrossValidator, ParamGridBuilder\n",
    "import numpy as np\n",
    "import pandas as pd\n",
    "pd.set_option('display.max_columns', 100)\n",
    "import functools\n",
    "from pyspark.ml.feature import OneHotEncoder\n",
    "from time import time\n",
    "from pyspark.sql.functions import isnull, when, count, col"
   ]
  },
  {
   "cell_type": "markdown",
   "metadata": {
    "deletable": true,
    "editable": true
   },
   "source": [
    "---\n",
    "<a name=\"Load data\"></a>\n",
    "### Load data\n"
   ]
  },
  {
   "cell_type": "code",
   "execution_count": 4,
   "metadata": {
    "collapsed": false,
    "deletable": true,
    "editable": true
   },
   "outputs": [],
   "source": [
    "# Sample (w/o replacement) 5% of the 16GB gzip (compressed), 54GB (uncompressed) dataset\n",
    "data = sc.textFile(\"wasb://criteodata@criteotracistroage.blob.core.windows.net/data/day_0.gz\").sample(False, 0.05, 7)"
   ]
  },
  {
   "cell_type": "code",
   "execution_count": 5,
   "metadata": {
    "collapsed": false,
    "deletable": true,
    "editable": true
   },
   "outputs": [
    {
     "name": "stdout",
     "output_type": "stream",
     "text": [
      "1"
     ]
    }
   ],
   "source": [
    "data.getNumPartitions()"
   ]
  },
  {
   "cell_type": "code",
   "execution_count": 11,
   "metadata": {
    "collapsed": false,
    "deletable": true,
    "editable": true,
    "scrolled": true
   },
   "outputs": [
    {
     "data": {
      "text/plain": [
       "['1\\t5\\t110\\t\\t16\\t\\t1\\t0\\t14\\t7\\t1\\t\\t306\\t\\t62770d79\\te21f5d58\\tafea442f\\t945c7fcf\\t38b02748\\t6fcd6dcb\\t3580aa21\\t28808903\\t46dedfa6\\t2e027dc1\\t0c7c4231\\t95981d1f\\t00c5ffb7\\tbe4ee537\\t8a0b74cc\\t4cdc3efa\\td20856aa\\tb8170bba\\t9512c20b\\tc38e2f28\\t14f65a5d\\t25b1b089\\td7c1fc0b\\t7caf609c\\t30436bfc\\ted10571d']"
      ]
     },
     "execution_count": 11,
     "metadata": {},
     "output_type": "execute_result"
    }
   ],
   "source": [
    "raw_data_train.take(1)"
   ]
  },
  {
   "cell_type": "code",
   "execution_count": 3,
   "metadata": {
    "collapsed": true,
    "deletable": true,
    "editable": true
   },
   "outputs": [],
   "source": [
    "data = data.map(lambda x: x.split(\"\\t\"), -1) \\\n",
    "            .map(lambda l: (l[0], l[1], l[2], l[3], l[4],l[5], l[6], l[7], l[8], l[9],\n",
    "                            l[10], l[11], l[12], l[13], l[14], l[15], l[16], l[17], l[18], \n",
    "                            l[19], l[20], l[21], l[22], l[23], l[24], l[25], l[26], l[27],\n",
    "                            l[28], l[29], l[30], l[31], l[32], l[33], l[34], l[35], l[36], \n",
    "                            l[37], l[38], l[39]))"
   ]
  },
  {
   "cell_type": "code",
   "execution_count": null,
   "metadata": {
    "collapsed": true,
    "deletable": true,
    "editable": true
   },
   "outputs": [],
   "source": [
    "# This step is crucial for enabling parallelized operations in YARN resource manager\n",
    "data = data.repartition(48)"
   ]
  },
  {
   "cell_type": "code",
   "execution_count": 30,
   "metadata": {
    "collapsed": false,
    "deletable": true,
    "editable": true
   },
   "outputs": [
    {
     "name": "stdout",
     "output_type": "stream",
     "text": [
      "[(u'0', u'7', u'33', u'12', u'16', u'12', u'0', u'0', u'0', u'15', u'0', u'3', u'1281', u'12', u'265366bf', u'5b6b66b5', u'20156e1d', u'6faef306', u'5931f059', u'6fcd6dcb', u'ee3c4dac', u'ab96c6b2', u'54fc547f', u'e63d98b4', u'c939136f', u'd9456bc0', u'a77a4a56', u'', u'dd7f4897', u'', u'', u'b8170bba', u'108a0699', u'47849e55', u'73b3f46d', u'd994ba60', u'', u'4dc8c296', u'337b81aa', u'2ba8d787')]"
     ]
    }
   ],
   "source": [
    "data.take(1)"
   ]
  },
  {
   "cell_type": "code",
   "execution_count": 11,
   "metadata": {
    "collapsed": false,
    "deletable": true,
    "editable": true
   },
   "outputs": [
    {
     "name": "stdout",
     "output_type": "stream",
     "text": [
      "9793346"
     ]
    }
   ],
   "source": [
    "# 5% sample contains ~10 million instances\n",
    "data.count()"
   ]
  },
  {
   "cell_type": "code",
   "execution_count": 6,
   "metadata": {
    "collapsed": false,
    "deletable": true,
    "editable": true
   },
   "outputs": [],
   "source": [
    "# Specify the schema\n",
    "# we cannot specify integer features as IntergerType() because there are empty strings in those columns\n",
    "schema = StructType([\n",
    "    StructField(\"binary\", StringType(), True),  \n",
    "    StructField(\"IntFeature1\", StringType(), True),    \n",
    "    StructField(\"IntFeature2\", StringType(), True),\n",
    "    StructField(\"IntFeature3\", StringType(), True),\n",
    "    StructField(\"IntFeature4\", StringType(), True),\n",
    "    StructField(\"IntFeature5\", StringType(), True),\n",
    "    StructField(\"IntFeature6\", StringType(), True),\n",
    "    StructField(\"IntFeature7\", StringType(), True),\n",
    "    StructField(\"IntFeature8\", StringType(), True),\n",
    "    StructField(\"IntFeature9\", StringType(), True),\n",
    "    StructField(\"IntFeature10\", StringType(), True),\n",
    "    StructField(\"IntFeature11\", StringType(), True),\n",
    "    StructField(\"IntFeature12\", StringType(), True),\n",
    "    StructField(\"IntFeature13\", StringType(), True),\n",
    "    StructField(\"CatFeature1\", StringType(), True),\n",
    "    StructField(\"CatFeature2\", StringType(), True),\n",
    "    StructField(\"CatFeature3\", StringType(), True),\n",
    "    StructField(\"CatFeature4\", StringType(), True),\n",
    "    StructField(\"CatFeature5\", StringType(), True),\n",
    "    StructField(\"CatFeature6\", StringType(), True),\n",
    "    StructField(\"CatFeature7\", StringType(), True),\n",
    "    StructField(\"CatFeature8\", StringType(), True),\n",
    "    StructField(\"CatFeature9\", StringType(), True),\n",
    "    StructField(\"CatFeature10\", StringType(), True),\n",
    "    StructField(\"CatFeature11\", StringType(), True),\n",
    "    StructField(\"CatFeature12\", StringType(), True),\n",
    "    StructField(\"CatFeature13\", StringType(), True),\n",
    "    StructField(\"CatFeature14\", StringType(), True),\n",
    "    StructField(\"CatFeature15\", StringType(), True),\n",
    "    StructField(\"CatFeature16\", StringType(), True),\n",
    "    StructField(\"CatFeature17\", StringType(), True),\n",
    "    StructField(\"CatFeature18\", StringType(), True),\n",
    "    StructField(\"CatFeature19\", StringType(), True),\n",
    "    StructField(\"CatFeature20\", StringType(), True),\n",
    "    StructField(\"CatFeature21\", StringType(), True),\n",
    "    StructField(\"CatFeature22\", StringType(), True),\n",
    "    StructField(\"CatFeature23\", StringType(), True),\n",
    "    StructField(\"CatFeature24\", StringType(), True),\n",
    "    StructField(\"CatFeature25\", StringType(), True),\n",
    "    StructField(\"CatFeature26\", StringType(), True)\n",
    "])"
   ]
  },
  {
   "cell_type": "code",
   "execution_count": 8,
   "metadata": {
    "collapsed": false,
    "deletable": true,
    "editable": true
   },
   "outputs": [
    {
     "data": {
      "text/html": [
       "<div>\n",
       "<style>\n",
       "    .dataframe thead tr:only-child th {\n",
       "        text-align: right;\n",
       "    }\n",
       "\n",
       "    .dataframe thead th {\n",
       "        text-align: left;\n",
       "    }\n",
       "\n",
       "    .dataframe tbody tr th {\n",
       "        vertical-align: top;\n",
       "    }\n",
       "</style>\n",
       "<table border=\"1\" class=\"dataframe\">\n",
       "  <thead>\n",
       "    <tr style=\"text-align: right;\">\n",
       "      <th></th>\n",
       "      <th>binary</th>\n",
       "      <th>IntFeature1</th>\n",
       "      <th>IntFeature2</th>\n",
       "      <th>IntFeature3</th>\n",
       "      <th>IntFeature4</th>\n",
       "      <th>IntFeature5</th>\n",
       "      <th>IntFeature6</th>\n",
       "      <th>IntFeature7</th>\n",
       "      <th>IntFeature8</th>\n",
       "      <th>IntFeature9</th>\n",
       "      <th>IntFeature10</th>\n",
       "      <th>IntFeature11</th>\n",
       "      <th>IntFeature12</th>\n",
       "      <th>IntFeature13</th>\n",
       "      <th>CatFeature1</th>\n",
       "      <th>CatFeature2</th>\n",
       "      <th>CatFeature3</th>\n",
       "      <th>CatFeature4</th>\n",
       "      <th>CatFeature5</th>\n",
       "      <th>CatFeature6</th>\n",
       "      <th>CatFeature7</th>\n",
       "      <th>CatFeature8</th>\n",
       "      <th>CatFeature9</th>\n",
       "      <th>CatFeature10</th>\n",
       "      <th>CatFeature11</th>\n",
       "      <th>CatFeature12</th>\n",
       "      <th>CatFeature13</th>\n",
       "      <th>CatFeature14</th>\n",
       "      <th>CatFeature15</th>\n",
       "      <th>CatFeature16</th>\n",
       "      <th>CatFeature17</th>\n",
       "      <th>CatFeature18</th>\n",
       "      <th>CatFeature19</th>\n",
       "      <th>CatFeature20</th>\n",
       "      <th>CatFeature21</th>\n",
       "      <th>CatFeature22</th>\n",
       "      <th>CatFeature23</th>\n",
       "      <th>CatFeature24</th>\n",
       "      <th>CatFeature25</th>\n",
       "      <th>CatFeature26</th>\n",
       "    </tr>\n",
       "  </thead>\n",
       "  <tbody>\n",
       "    <tr>\n",
       "      <th>0</th>\n",
       "      <td>0</td>\n",
       "      <td>3</td>\n",
       "      <td>174</td>\n",
       "      <td>3</td>\n",
       "      <td>2972</td>\n",
       "      <td></td>\n",
       "      <td>0</td>\n",
       "      <td>0</td>\n",
       "      <td>1</td>\n",
       "      <td>3</td>\n",
       "      <td>0</td>\n",
       "      <td></td>\n",
       "      <td>108002</td>\n",
       "      <td>3</td>\n",
       "      <td>265366bf</td>\n",
       "      <td>c34c7d54</td>\n",
       "      <td>471b4db9</td>\n",
       "      <td>67ecc871</td>\n",
       "      <td>c6fc10d3</td>\n",
       "      <td>919c68e4</td>\n",
       "      <td>24017451</td>\n",
       "      <td>ab96c6b2</td>\n",
       "      <td>2e4e821f</td>\n",
       "      <td>e63d98b4</td>\n",
       "      <td>c939136f</td>\n",
       "      <td>12716184</td>\n",
       "      <td>00c5ffb7</td>\n",
       "      <td></td>\n",
       "      <td>5cbc7f6a</td>\n",
       "      <td></td>\n",
       "      <td></td>\n",
       "      <td>b8170bba</td>\n",
       "      <td>108a0699</td>\n",
       "      <td>47849e55</td>\n",
       "      <td>73b3f46d</td>\n",
       "      <td>d994ba60</td>\n",
       "      <td></td>\n",
       "      <td>2a357f68</td>\n",
       "      <td>ff654802</td>\n",
       "      <td>2ba8d787</td>\n",
       "    </tr>\n",
       "    <tr>\n",
       "      <th>1</th>\n",
       "      <td>0</td>\n",
       "      <td>7</td>\n",
       "      <td>1262</td>\n",
       "      <td>6</td>\n",
       "      <td></td>\n",
       "      <td>391</td>\n",
       "      <td>0</td>\n",
       "      <td>0</td>\n",
       "      <td>20</td>\n",
       "      <td>0</td>\n",
       "      <td>0</td>\n",
       "      <td>45</td>\n",
       "      <td>6115</td>\n",
       "      <td>6</td>\n",
       "      <td>ad98e872</td>\n",
       "      <td>efc01d31</td>\n",
       "      <td>7ad6521e</td>\n",
       "      <td>f7f54f97</td>\n",
       "      <td>1b892b7d</td>\n",
       "      <td>6fcd6dcb</td>\n",
       "      <td>3fd1c581</td>\n",
       "      <td>4aa7575b</td>\n",
       "      <td>2e4e821f</td>\n",
       "      <td>62da11e3</td>\n",
       "      <td>14874876</td>\n",
       "      <td>925d87d3</td>\n",
       "      <td>26bb0b02</td>\n",
       "      <td>be4ee537</td>\n",
       "      <td>814ee703</td>\n",
       "      <td>4cdc3efa</td>\n",
       "      <td>d20856aa</td>\n",
       "      <td>b8170bba</td>\n",
       "      <td>cc7a7d35</td>\n",
       "      <td>156cbe87</td>\n",
       "      <td>96fbe197</td>\n",
       "      <td>15562d5d</td>\n",
       "      <td>d3df7183</td>\n",
       "      <td>bff3f545</td>\n",
       "      <td>30436bfc</td>\n",
       "      <td>e1be5ef2</td>\n",
       "    </tr>\n",
       "    <tr>\n",
       "      <th>2</th>\n",
       "      <td>0</td>\n",
       "      <td>2</td>\n",
       "      <td></td>\n",
       "      <td>3</td>\n",
       "      <td>69</td>\n",
       "      <td></td>\n",
       "      <td>0</td>\n",
       "      <td>0</td>\n",
       "      <td>1</td>\n",
       "      <td>14</td>\n",
       "      <td>0</td>\n",
       "      <td></td>\n",
       "      <td>1631</td>\n",
       "      <td>3</td>\n",
       "      <td>788a5d5b</td>\n",
       "      <td>98e2c109</td>\n",
       "      <td>d0c5d50f</td>\n",
       "      <td>313cb7a5</td>\n",
       "      <td>557c9c6f</td>\n",
       "      <td>6fcd6dcb</td>\n",
       "      <td>725b10e7</td>\n",
       "      <td>a66a02fa</td>\n",
       "      <td>2e4e821f</td>\n",
       "      <td>16ec16d6</td>\n",
       "      <td>fa478aa9</td>\n",
       "      <td>c8c71008</td>\n",
       "      <td>a77a4a56</td>\n",
       "      <td></td>\n",
       "      <td>ded4997d</td>\n",
       "      <td></td>\n",
       "      <td></td>\n",
       "      <td>b8170bba</td>\n",
       "      <td>9512c20b</td>\n",
       "      <td>ef426d46</td>\n",
       "      <td>0683bc6f</td>\n",
       "      <td>6e86ac23</td>\n",
       "      <td></td>\n",
       "      <td>245d9da7</td>\n",
       "      <td>30436bfc</td>\n",
       "      <td>b757e957</td>\n",
       "    </tr>\n",
       "    <tr>\n",
       "      <th>3</th>\n",
       "      <td>0</td>\n",
       "      <td>24</td>\n",
       "      <td>963</td>\n",
       "      <td>5</td>\n",
       "      <td></td>\n",
       "      <td></td>\n",
       "      <td>0</td>\n",
       "      <td>0</td>\n",
       "      <td>2</td>\n",
       "      <td>5</td>\n",
       "      <td>0</td>\n",
       "      <td></td>\n",
       "      <td>17974</td>\n",
       "      <td>5</td>\n",
       "      <td>eea476da</td>\n",
       "      <td>f2de60c5</td>\n",
       "      <td>d80b3a3d</td>\n",
       "      <td>6faef306</td>\n",
       "      <td>729e35ab</td>\n",
       "      <td>6fcd6dcb</td>\n",
       "      <td>8396e5ed</td>\n",
       "      <td>59903d33</td>\n",
       "      <td>7cee8453</td>\n",
       "      <td>db4219f9</td>\n",
       "      <td>d2e66b42</td>\n",
       "      <td>a53313f4</td>\n",
       "      <td>a77a4a56</td>\n",
       "      <td>acd48690</td>\n",
       "      <td>b867d0bc</td>\n",
       "      <td>83f41762</td>\n",
       "      <td>1f7fc70b</td>\n",
       "      <td>b8170bba</td>\n",
       "      <td>1889c49d</td>\n",
       "      <td>bd338d74</td>\n",
       "      <td>9d6b0ef4</td>\n",
       "      <td>c2e3ea9b</td>\n",
       "      <td>409df9cc</td>\n",
       "      <td>5e9c7308</td>\n",
       "      <td>ff654802</td>\n",
       "      <td>2ccea557</td>\n",
       "    </tr>\n",
       "    <tr>\n",
       "      <th>4</th>\n",
       "      <td>0</td>\n",
       "      <td>3</td>\n",
       "      <td>14</td>\n",
       "      <td></td>\n",
       "      <td></td>\n",
       "      <td></td>\n",
       "      <td>0</td>\n",
       "      <td>0</td>\n",
       "      <td>3</td>\n",
       "      <td>0</td>\n",
       "      <td>0</td>\n",
       "      <td></td>\n",
       "      <td>1674</td>\n",
       "      <td></td>\n",
       "      <td>21645cb4</td>\n",
       "      <td>e6f90766</td>\n",
       "      <td>6217e6ed</td>\n",
       "      <td>f2463ffb</td>\n",
       "      <td>c6fc10d3</td>\n",
       "      <td>6fcd6dcb</td>\n",
       "      <td>88b7e99f</td>\n",
       "      <td>95d8a820</td>\n",
       "      <td>7cee8453</td>\n",
       "      <td>2ef5d866</td>\n",
       "      <td>394851b4</td>\n",
       "      <td>63045b06</td>\n",
       "      <td>405ca118</td>\n",
       "      <td>be4ee537</td>\n",
       "      <td>a1632765</td>\n",
       "      <td>4cdc3efa</td>\n",
       "      <td>d20856aa</td>\n",
       "      <td>f7389918</td>\n",
       "      <td>9512c20b</td>\n",
       "      <td>7e55cfdd</td>\n",
       "      <td>ea23c38c</td>\n",
       "      <td>fff094e3</td>\n",
       "      <td>f6a673fc</td>\n",
       "      <td>ce4b62c4</td>\n",
       "      <td>991321ea</td>\n",
       "      <td>b757e957</td>\n",
       "    </tr>\n",
       "  </tbody>\n",
       "</table>\n",
       "</div>"
      ],
      "text/plain": [
       "  binary IntFeature1 IntFeature2 IntFeature3 IntFeature4 IntFeature5  \\\n",
       "0      0           3         174           3        2972               \n",
       "1      0           7        1262           6                     391   \n",
       "2      0           2                       3          69               \n",
       "3      0          24         963           5                           \n",
       "4      0           3          14                                       \n",
       "\n",
       "  IntFeature6 IntFeature7 IntFeature8 IntFeature9 IntFeature10 IntFeature11  \\\n",
       "0           0           0           1           3            0                \n",
       "1           0           0          20           0            0           45   \n",
       "2           0           0           1          14            0                \n",
       "3           0           0           2           5            0                \n",
       "4           0           0           3           0            0                \n",
       "\n",
       "  IntFeature12 IntFeature13 CatFeature1 CatFeature2 CatFeature3 CatFeature4  \\\n",
       "0       108002            3    265366bf    c34c7d54    471b4db9    67ecc871   \n",
       "1         6115            6    ad98e872    efc01d31    7ad6521e    f7f54f97   \n",
       "2         1631            3    788a5d5b    98e2c109    d0c5d50f    313cb7a5   \n",
       "3        17974            5    eea476da    f2de60c5    d80b3a3d    6faef306   \n",
       "4         1674                 21645cb4    e6f90766    6217e6ed    f2463ffb   \n",
       "\n",
       "  CatFeature5 CatFeature6 CatFeature7 CatFeature8 CatFeature9 CatFeature10  \\\n",
       "0    c6fc10d3    919c68e4    24017451    ab96c6b2    2e4e821f     e63d98b4   \n",
       "1    1b892b7d    6fcd6dcb    3fd1c581    4aa7575b    2e4e821f     62da11e3   \n",
       "2    557c9c6f    6fcd6dcb    725b10e7    a66a02fa    2e4e821f     16ec16d6   \n",
       "3    729e35ab    6fcd6dcb    8396e5ed    59903d33    7cee8453     db4219f9   \n",
       "4    c6fc10d3    6fcd6dcb    88b7e99f    95d8a820    7cee8453     2ef5d866   \n",
       "\n",
       "  CatFeature11 CatFeature12 CatFeature13 CatFeature14 CatFeature15  \\\n",
       "0     c939136f     12716184     00c5ffb7                  5cbc7f6a   \n",
       "1     14874876     925d87d3     26bb0b02     be4ee537     814ee703   \n",
       "2     fa478aa9     c8c71008     a77a4a56                  ded4997d   \n",
       "3     d2e66b42     a53313f4     a77a4a56     acd48690     b867d0bc   \n",
       "4     394851b4     63045b06     405ca118     be4ee537     a1632765   \n",
       "\n",
       "  CatFeature16 CatFeature17 CatFeature18 CatFeature19 CatFeature20  \\\n",
       "0                               b8170bba     108a0699     47849e55   \n",
       "1     4cdc3efa     d20856aa     b8170bba     cc7a7d35     156cbe87   \n",
       "2                               b8170bba     9512c20b     ef426d46   \n",
       "3     83f41762     1f7fc70b     b8170bba     1889c49d     bd338d74   \n",
       "4     4cdc3efa     d20856aa     f7389918     9512c20b     7e55cfdd   \n",
       "\n",
       "  CatFeature21 CatFeature22 CatFeature23 CatFeature24 CatFeature25  \\\n",
       "0     73b3f46d     d994ba60                  2a357f68     ff654802   \n",
       "1     96fbe197     15562d5d     d3df7183     bff3f545     30436bfc   \n",
       "2     0683bc6f     6e86ac23                  245d9da7     30436bfc   \n",
       "3     9d6b0ef4     c2e3ea9b     409df9cc     5e9c7308     ff654802   \n",
       "4     ea23c38c     fff094e3     f6a673fc     ce4b62c4     991321ea   \n",
       "\n",
       "  CatFeature26  \n",
       "0     2ba8d787  \n",
       "1     e1be5ef2  \n",
       "2     b757e957  \n",
       "3     2ccea557  \n",
       "4     b757e957  "
      ]
     },
     "execution_count": 8,
     "metadata": {},
     "output_type": "execute_result"
    }
   ],
   "source": [
    "# Convert rdd to a spark dataframe\n",
    "df = spark.createDataFrame(data, schema)\n",
    "\n",
    "# Use pandas to get a nicer display of first 5 rows of dataframe\n",
    "df.toPandas().head()"
   ]
  },
  {
   "cell_type": "code",
   "execution_count": 9,
   "metadata": {
    "collapsed": false,
    "deletable": true,
    "editable": true
   },
   "outputs": [
    {
     "data": {
      "text/html": [
       "<div>\n",
       "<style>\n",
       "    .dataframe thead tr:only-child th {\n",
       "        text-align: right;\n",
       "    }\n",
       "\n",
       "    .dataframe thead th {\n",
       "        text-align: left;\n",
       "    }\n",
       "\n",
       "    .dataframe tbody tr th {\n",
       "        vertical-align: top;\n",
       "    }\n",
       "</style>\n",
       "<table border=\"1\" class=\"dataframe\">\n",
       "  <thead>\n",
       "    <tr style=\"text-align: right;\">\n",
       "      <th></th>\n",
       "      <th>binary</th>\n",
       "      <th>IntFeature1</th>\n",
       "      <th>IntFeature2</th>\n",
       "      <th>IntFeature3</th>\n",
       "      <th>IntFeature4</th>\n",
       "      <th>IntFeature5</th>\n",
       "      <th>IntFeature6</th>\n",
       "      <th>IntFeature7</th>\n",
       "      <th>IntFeature8</th>\n",
       "      <th>IntFeature9</th>\n",
       "      <th>IntFeature10</th>\n",
       "      <th>IntFeature11</th>\n",
       "      <th>IntFeature12</th>\n",
       "      <th>IntFeature13</th>\n",
       "      <th>CatFeature1</th>\n",
       "      <th>CatFeature2</th>\n",
       "      <th>CatFeature3</th>\n",
       "      <th>CatFeature4</th>\n",
       "      <th>CatFeature5</th>\n",
       "      <th>CatFeature6</th>\n",
       "      <th>CatFeature7</th>\n",
       "      <th>CatFeature8</th>\n",
       "      <th>CatFeature9</th>\n",
       "      <th>CatFeature10</th>\n",
       "      <th>CatFeature11</th>\n",
       "      <th>CatFeature12</th>\n",
       "      <th>CatFeature13</th>\n",
       "      <th>CatFeature14</th>\n",
       "      <th>CatFeature15</th>\n",
       "      <th>CatFeature16</th>\n",
       "      <th>CatFeature17</th>\n",
       "      <th>CatFeature18</th>\n",
       "      <th>CatFeature19</th>\n",
       "      <th>CatFeature20</th>\n",
       "      <th>CatFeature21</th>\n",
       "      <th>CatFeature22</th>\n",
       "      <th>CatFeature23</th>\n",
       "      <th>CatFeature24</th>\n",
       "      <th>CatFeature25</th>\n",
       "      <th>CatFeature26</th>\n",
       "    </tr>\n",
       "  </thead>\n",
       "  <tbody>\n",
       "    <tr>\n",
       "      <th>0</th>\n",
       "      <td>0</td>\n",
       "      <td>3.0</td>\n",
       "      <td>174.0</td>\n",
       "      <td>3.0</td>\n",
       "      <td>2972.0</td>\n",
       "      <td>NaN</td>\n",
       "      <td>0.0</td>\n",
       "      <td>0.0</td>\n",
       "      <td>1</td>\n",
       "      <td>3</td>\n",
       "      <td>0.0</td>\n",
       "      <td>NaN</td>\n",
       "      <td>108002.0</td>\n",
       "      <td>3.0</td>\n",
       "      <td>265366bf</td>\n",
       "      <td>c34c7d54</td>\n",
       "      <td>471b4db9</td>\n",
       "      <td>67ecc871</td>\n",
       "      <td>c6fc10d3</td>\n",
       "      <td>919c68e4</td>\n",
       "      <td>24017451</td>\n",
       "      <td>ab96c6b2</td>\n",
       "      <td>2e4e821f</td>\n",
       "      <td>e63d98b4</td>\n",
       "      <td>c939136f</td>\n",
       "      <td>12716184</td>\n",
       "      <td>00c5ffb7</td>\n",
       "      <td></td>\n",
       "      <td>5cbc7f6a</td>\n",
       "      <td></td>\n",
       "      <td></td>\n",
       "      <td>b8170bba</td>\n",
       "      <td>108a0699</td>\n",
       "      <td>47849e55</td>\n",
       "      <td>73b3f46d</td>\n",
       "      <td>d994ba60</td>\n",
       "      <td></td>\n",
       "      <td>2a357f68</td>\n",
       "      <td>ff654802</td>\n",
       "      <td>2ba8d787</td>\n",
       "    </tr>\n",
       "    <tr>\n",
       "      <th>1</th>\n",
       "      <td>0</td>\n",
       "      <td>7.0</td>\n",
       "      <td>1262.0</td>\n",
       "      <td>6.0</td>\n",
       "      <td>NaN</td>\n",
       "      <td>391.0</td>\n",
       "      <td>0.0</td>\n",
       "      <td>0.0</td>\n",
       "      <td>20</td>\n",
       "      <td>0</td>\n",
       "      <td>0.0</td>\n",
       "      <td>45.0</td>\n",
       "      <td>6115.0</td>\n",
       "      <td>6.0</td>\n",
       "      <td>ad98e872</td>\n",
       "      <td>efc01d31</td>\n",
       "      <td>7ad6521e</td>\n",
       "      <td>f7f54f97</td>\n",
       "      <td>1b892b7d</td>\n",
       "      <td>6fcd6dcb</td>\n",
       "      <td>3fd1c581</td>\n",
       "      <td>4aa7575b</td>\n",
       "      <td>2e4e821f</td>\n",
       "      <td>62da11e3</td>\n",
       "      <td>14874876</td>\n",
       "      <td>925d87d3</td>\n",
       "      <td>26bb0b02</td>\n",
       "      <td>be4ee537</td>\n",
       "      <td>814ee703</td>\n",
       "      <td>4cdc3efa</td>\n",
       "      <td>d20856aa</td>\n",
       "      <td>b8170bba</td>\n",
       "      <td>cc7a7d35</td>\n",
       "      <td>156cbe87</td>\n",
       "      <td>96fbe197</td>\n",
       "      <td>15562d5d</td>\n",
       "      <td>d3df7183</td>\n",
       "      <td>bff3f545</td>\n",
       "      <td>30436bfc</td>\n",
       "      <td>e1be5ef2</td>\n",
       "    </tr>\n",
       "    <tr>\n",
       "      <th>2</th>\n",
       "      <td>0</td>\n",
       "      <td>2.0</td>\n",
       "      <td>NaN</td>\n",
       "      <td>3.0</td>\n",
       "      <td>69.0</td>\n",
       "      <td>NaN</td>\n",
       "      <td>0.0</td>\n",
       "      <td>0.0</td>\n",
       "      <td>1</td>\n",
       "      <td>14</td>\n",
       "      <td>0.0</td>\n",
       "      <td>NaN</td>\n",
       "      <td>1631.0</td>\n",
       "      <td>3.0</td>\n",
       "      <td>788a5d5b</td>\n",
       "      <td>98e2c109</td>\n",
       "      <td>d0c5d50f</td>\n",
       "      <td>313cb7a5</td>\n",
       "      <td>557c9c6f</td>\n",
       "      <td>6fcd6dcb</td>\n",
       "      <td>725b10e7</td>\n",
       "      <td>a66a02fa</td>\n",
       "      <td>2e4e821f</td>\n",
       "      <td>16ec16d6</td>\n",
       "      <td>fa478aa9</td>\n",
       "      <td>c8c71008</td>\n",
       "      <td>a77a4a56</td>\n",
       "      <td></td>\n",
       "      <td>ded4997d</td>\n",
       "      <td></td>\n",
       "      <td></td>\n",
       "      <td>b8170bba</td>\n",
       "      <td>9512c20b</td>\n",
       "      <td>ef426d46</td>\n",
       "      <td>0683bc6f</td>\n",
       "      <td>6e86ac23</td>\n",
       "      <td></td>\n",
       "      <td>245d9da7</td>\n",
       "      <td>30436bfc</td>\n",
       "      <td>b757e957</td>\n",
       "    </tr>\n",
       "    <tr>\n",
       "      <th>3</th>\n",
       "      <td>0</td>\n",
       "      <td>24.0</td>\n",
       "      <td>963.0</td>\n",
       "      <td>5.0</td>\n",
       "      <td>NaN</td>\n",
       "      <td>NaN</td>\n",
       "      <td>0.0</td>\n",
       "      <td>0.0</td>\n",
       "      <td>2</td>\n",
       "      <td>5</td>\n",
       "      <td>0.0</td>\n",
       "      <td>NaN</td>\n",
       "      <td>17974.0</td>\n",
       "      <td>5.0</td>\n",
       "      <td>eea476da</td>\n",
       "      <td>f2de60c5</td>\n",
       "      <td>d80b3a3d</td>\n",
       "      <td>6faef306</td>\n",
       "      <td>729e35ab</td>\n",
       "      <td>6fcd6dcb</td>\n",
       "      <td>8396e5ed</td>\n",
       "      <td>59903d33</td>\n",
       "      <td>7cee8453</td>\n",
       "      <td>db4219f9</td>\n",
       "      <td>d2e66b42</td>\n",
       "      <td>a53313f4</td>\n",
       "      <td>a77a4a56</td>\n",
       "      <td>acd48690</td>\n",
       "      <td>b867d0bc</td>\n",
       "      <td>83f41762</td>\n",
       "      <td>1f7fc70b</td>\n",
       "      <td>b8170bba</td>\n",
       "      <td>1889c49d</td>\n",
       "      <td>bd338d74</td>\n",
       "      <td>9d6b0ef4</td>\n",
       "      <td>c2e3ea9b</td>\n",
       "      <td>409df9cc</td>\n",
       "      <td>5e9c7308</td>\n",
       "      <td>ff654802</td>\n",
       "      <td>2ccea557</td>\n",
       "    </tr>\n",
       "    <tr>\n",
       "      <th>4</th>\n",
       "      <td>0</td>\n",
       "      <td>3.0</td>\n",
       "      <td>14.0</td>\n",
       "      <td>NaN</td>\n",
       "      <td>NaN</td>\n",
       "      <td>NaN</td>\n",
       "      <td>0.0</td>\n",
       "      <td>0.0</td>\n",
       "      <td>3</td>\n",
       "      <td>0</td>\n",
       "      <td>0.0</td>\n",
       "      <td>NaN</td>\n",
       "      <td>1674.0</td>\n",
       "      <td>NaN</td>\n",
       "      <td>21645cb4</td>\n",
       "      <td>e6f90766</td>\n",
       "      <td>6217e6ed</td>\n",
       "      <td>f2463ffb</td>\n",
       "      <td>c6fc10d3</td>\n",
       "      <td>6fcd6dcb</td>\n",
       "      <td>88b7e99f</td>\n",
       "      <td>95d8a820</td>\n",
       "      <td>7cee8453</td>\n",
       "      <td>2ef5d866</td>\n",
       "      <td>394851b4</td>\n",
       "      <td>63045b06</td>\n",
       "      <td>405ca118</td>\n",
       "      <td>be4ee537</td>\n",
       "      <td>a1632765</td>\n",
       "      <td>4cdc3efa</td>\n",
       "      <td>d20856aa</td>\n",
       "      <td>f7389918</td>\n",
       "      <td>9512c20b</td>\n",
       "      <td>7e55cfdd</td>\n",
       "      <td>ea23c38c</td>\n",
       "      <td>fff094e3</td>\n",
       "      <td>f6a673fc</td>\n",
       "      <td>ce4b62c4</td>\n",
       "      <td>991321ea</td>\n",
       "      <td>b757e957</td>\n",
       "    </tr>\n",
       "  </tbody>\n",
       "</table>\n",
       "</div>"
      ],
      "text/plain": [
       "  binary  IntFeature1  IntFeature2  IntFeature3  IntFeature4  IntFeature5  \\\n",
       "0      0          3.0        174.0          3.0       2972.0          NaN   \n",
       "1      0          7.0       1262.0          6.0          NaN        391.0   \n",
       "2      0          2.0          NaN          3.0         69.0          NaN   \n",
       "3      0         24.0        963.0          5.0          NaN          NaN   \n",
       "4      0          3.0         14.0          NaN          NaN          NaN   \n",
       "\n",
       "   IntFeature6  IntFeature7  IntFeature8  IntFeature9  IntFeature10  \\\n",
       "0          0.0          0.0            1            3           0.0   \n",
       "1          0.0          0.0           20            0           0.0   \n",
       "2          0.0          0.0            1           14           0.0   \n",
       "3          0.0          0.0            2            5           0.0   \n",
       "4          0.0          0.0            3            0           0.0   \n",
       "\n",
       "   IntFeature11  IntFeature12  IntFeature13 CatFeature1 CatFeature2  \\\n",
       "0           NaN      108002.0           3.0    265366bf    c34c7d54   \n",
       "1          45.0        6115.0           6.0    ad98e872    efc01d31   \n",
       "2           NaN        1631.0           3.0    788a5d5b    98e2c109   \n",
       "3           NaN       17974.0           5.0    eea476da    f2de60c5   \n",
       "4           NaN        1674.0           NaN    21645cb4    e6f90766   \n",
       "\n",
       "  CatFeature3 CatFeature4 CatFeature5 CatFeature6 CatFeature7 CatFeature8  \\\n",
       "0    471b4db9    67ecc871    c6fc10d3    919c68e4    24017451    ab96c6b2   \n",
       "1    7ad6521e    f7f54f97    1b892b7d    6fcd6dcb    3fd1c581    4aa7575b   \n",
       "2    d0c5d50f    313cb7a5    557c9c6f    6fcd6dcb    725b10e7    a66a02fa   \n",
       "3    d80b3a3d    6faef306    729e35ab    6fcd6dcb    8396e5ed    59903d33   \n",
       "4    6217e6ed    f2463ffb    c6fc10d3    6fcd6dcb    88b7e99f    95d8a820   \n",
       "\n",
       "  CatFeature9 CatFeature10 CatFeature11 CatFeature12 CatFeature13  \\\n",
       "0    2e4e821f     e63d98b4     c939136f     12716184     00c5ffb7   \n",
       "1    2e4e821f     62da11e3     14874876     925d87d3     26bb0b02   \n",
       "2    2e4e821f     16ec16d6     fa478aa9     c8c71008     a77a4a56   \n",
       "3    7cee8453     db4219f9     d2e66b42     a53313f4     a77a4a56   \n",
       "4    7cee8453     2ef5d866     394851b4     63045b06     405ca118   \n",
       "\n",
       "  CatFeature14 CatFeature15 CatFeature16 CatFeature17 CatFeature18  \\\n",
       "0                  5cbc7f6a                               b8170bba   \n",
       "1     be4ee537     814ee703     4cdc3efa     d20856aa     b8170bba   \n",
       "2                  ded4997d                               b8170bba   \n",
       "3     acd48690     b867d0bc     83f41762     1f7fc70b     b8170bba   \n",
       "4     be4ee537     a1632765     4cdc3efa     d20856aa     f7389918   \n",
       "\n",
       "  CatFeature19 CatFeature20 CatFeature21 CatFeature22 CatFeature23  \\\n",
       "0     108a0699     47849e55     73b3f46d     d994ba60                \n",
       "1     cc7a7d35     156cbe87     96fbe197     15562d5d     d3df7183   \n",
       "2     9512c20b     ef426d46     0683bc6f     6e86ac23                \n",
       "3     1889c49d     bd338d74     9d6b0ef4     c2e3ea9b     409df9cc   \n",
       "4     9512c20b     7e55cfdd     ea23c38c     fff094e3     f6a673fc   \n",
       "\n",
       "  CatFeature24 CatFeature25 CatFeature26  \n",
       "0     2a357f68     ff654802     2ba8d787  \n",
       "1     bff3f545     30436bfc     e1be5ef2  \n",
       "2     245d9da7     30436bfc     b757e957  \n",
       "3     5e9c7308     ff654802     2ccea557  \n",
       "4     ce4b62c4     991321ea     b757e957  "
      ]
     },
     "execution_count": 9,
     "metadata": {},
     "output_type": "execute_result"
    }
   ],
   "source": [
    "# Modify the schema by changing Stringtype() to Integertype()\n",
    "df = df.select(df.binary,# convert numeric cols (int or float) into a 'int' or 'float'\n",
    "               df.IntFeature1.cast('int'),\n",
    "               df.IntFeature2.cast('int'),\n",
    "               df.IntFeature3.cast('int'),\n",
    "               df.IntFeature4.cast('int'),\n",
    "               df.IntFeature5.cast('int'),\n",
    "               df.IntFeature6.cast('int'),\n",
    "               df.IntFeature7.cast('int'),\n",
    "               df.IntFeature8.cast('int'),\n",
    "               df.IntFeature9.cast('int'),\n",
    "               df.IntFeature10.cast('int'),\n",
    "               df.IntFeature11.cast('int'),\n",
    "               df.IntFeature12.cast('int'),\n",
    "               df.IntFeature13.cast('int'),\n",
    "               *df.columns[14:])\n",
    "df.toPandas().head()"
   ]
  },
  {
   "cell_type": "markdown",
   "metadata": {
    "deletable": true,
    "editable": true
   },
   "source": [
    "---\n",
    "<a name=\"Preliminary analysis and preprocessing\"></a>\n",
    "### Preliminary analysis and preprocessing\n"
   ]
  },
  {
   "cell_type": "code",
   "execution_count": null,
   "metadata": {
    "collapsed": false,
    "deletable": true,
    "editable": true
   },
   "outputs": [
    {
     "name": "stdout",
     "output_type": "stream",
     "text": [
      "('CatFeature1', 2973005)\n",
      "('CatFeature2', 24749)\n",
      "('CatFeature3', 14898)\n",
      "('CatFeature4', 7189)\n",
      "('CatFeature5', 19507)\n",
      "('CatFeature6', 3)\n",
      "('CatFeature7', 6452)\n",
      "('CatFeature8', 1271)\n",
      "('CatFeature9', 56)\n",
      "('CatFeature10', 2046681)\n",
      "('CatFeature11', 224984)\n",
      "('CatFeature12', 131026)\n",
      "('CatFeature13', 10)\n",
      "('CatFeature14', 2194)\n",
      "('CatFeature15', 8849)\n",
      "('CatFeature16', 63)\n",
      "('CatFeature17', 4)\n",
      "('CatFeature18', 951)\n",
      "('CatFeature19', 14)\n",
      "('CatFeature20', 3337629)\n",
      "('CatFeature21', 939760)\n",
      "('CatFeature22', 2641877)\n",
      "('CatFeature23', 147199)\n",
      "('CatFeature24', 10115)\n",
      "('CatFeature25', 82)\n",
      "('CatFeature26', 33)"
     ]
    }
   ],
   "source": [
    "# Show the number of unique catergories we are dealing with \n",
    "for col in df.columns[14:]:\n",
    "    print(col, df.select(col).distinct().count())"
   ]
  },
  {
   "cell_type": "code",
   "execution_count": 10,
   "metadata": {
    "collapsed": false,
    "deletable": true,
    "editable": true
   },
   "outputs": [
    {
     "data": {
      "text/html": [
       "<div>\n",
       "<style>\n",
       "    .dataframe thead tr:only-child th {\n",
       "        text-align: right;\n",
       "    }\n",
       "\n",
       "    .dataframe thead th {\n",
       "        text-align: left;\n",
       "    }\n",
       "\n",
       "    .dataframe tbody tr th {\n",
       "        vertical-align: top;\n",
       "    }\n",
       "</style>\n",
       "<table border=\"1\" class=\"dataframe\">\n",
       "  <thead>\n",
       "    <tr style=\"text-align: right;\">\n",
       "      <th></th>\n",
       "      <th>binary</th>\n",
       "      <th>IntFeature1</th>\n",
       "      <th>IntFeature2</th>\n",
       "      <th>IntFeature3</th>\n",
       "      <th>IntFeature4</th>\n",
       "      <th>IntFeature5</th>\n",
       "      <th>IntFeature6</th>\n",
       "      <th>IntFeature7</th>\n",
       "      <th>IntFeature8</th>\n",
       "      <th>IntFeature9</th>\n",
       "      <th>IntFeature10</th>\n",
       "      <th>IntFeature11</th>\n",
       "      <th>IntFeature12</th>\n",
       "      <th>IntFeature13</th>\n",
       "      <th>CatFeature1</th>\n",
       "      <th>CatFeature2</th>\n",
       "      <th>CatFeature3</th>\n",
       "      <th>CatFeature4</th>\n",
       "      <th>CatFeature5</th>\n",
       "      <th>CatFeature6</th>\n",
       "      <th>CatFeature7</th>\n",
       "      <th>CatFeature8</th>\n",
       "      <th>CatFeature9</th>\n",
       "      <th>CatFeature10</th>\n",
       "      <th>CatFeature11</th>\n",
       "      <th>CatFeature12</th>\n",
       "      <th>CatFeature13</th>\n",
       "      <th>CatFeature14</th>\n",
       "      <th>CatFeature15</th>\n",
       "      <th>CatFeature16</th>\n",
       "      <th>CatFeature17</th>\n",
       "      <th>CatFeature18</th>\n",
       "      <th>CatFeature19</th>\n",
       "      <th>CatFeature20</th>\n",
       "      <th>CatFeature21</th>\n",
       "      <th>CatFeature22</th>\n",
       "      <th>CatFeature23</th>\n",
       "      <th>CatFeature24</th>\n",
       "      <th>CatFeature25</th>\n",
       "      <th>CatFeature26</th>\n",
       "    </tr>\n",
       "  </thead>\n",
       "  <tbody>\n",
       "    <tr>\n",
       "      <th>0</th>\n",
       "      <td>1.0</td>\n",
       "      <td>0.810842</td>\n",
       "      <td>0.896039</td>\n",
       "      <td>0.758761</td>\n",
       "      <td>0.651859</td>\n",
       "      <td>0.576043</td>\n",
       "      <td>0.913992</td>\n",
       "      <td>0.969522</td>\n",
       "      <td>1.0</td>\n",
       "      <td>1.0</td>\n",
       "      <td>0.913992</td>\n",
       "      <td>0.576043</td>\n",
       "      <td>0.980324</td>\n",
       "      <td>0.758761</td>\n",
       "      <td>1.0</td>\n",
       "      <td>1.0</td>\n",
       "      <td>1.0</td>\n",
       "      <td>1.0</td>\n",
       "      <td>1.0</td>\n",
       "      <td>1.0</td>\n",
       "      <td>1.0</td>\n",
       "      <td>1.0</td>\n",
       "      <td>1.0</td>\n",
       "      <td>1.0</td>\n",
       "      <td>1.0</td>\n",
       "      <td>1.0</td>\n",
       "      <td>1.0</td>\n",
       "      <td>1.0</td>\n",
       "      <td>1.0</td>\n",
       "      <td>1.0</td>\n",
       "      <td>1.0</td>\n",
       "      <td>1.0</td>\n",
       "      <td>1.0</td>\n",
       "      <td>1.0</td>\n",
       "      <td>1.0</td>\n",
       "      <td>1.0</td>\n",
       "      <td>1.0</td>\n",
       "      <td>1.0</td>\n",
       "      <td>1.0</td>\n",
       "      <td>1.0</td>\n",
       "    </tr>\n",
       "  </tbody>\n",
       "</table>\n",
       "</div>"
      ],
      "text/plain": [
       "   binary  IntFeature1  IntFeature2  IntFeature3  IntFeature4  IntFeature5  \\\n",
       "0     1.0     0.810842     0.896039     0.758761     0.651859     0.576043   \n",
       "\n",
       "   IntFeature6  IntFeature7  IntFeature8  IntFeature9  IntFeature10  \\\n",
       "0     0.913992     0.969522          1.0          1.0      0.913992   \n",
       "\n",
       "   IntFeature11  IntFeature12  IntFeature13  CatFeature1  CatFeature2  \\\n",
       "0      0.576043      0.980324      0.758761          1.0          1.0   \n",
       "\n",
       "   CatFeature3  CatFeature4  CatFeature5  CatFeature6  CatFeature7  \\\n",
       "0          1.0          1.0          1.0          1.0          1.0   \n",
       "\n",
       "   CatFeature8  CatFeature9  CatFeature10  CatFeature11  CatFeature12  \\\n",
       "0          1.0          1.0           1.0           1.0           1.0   \n",
       "\n",
       "   CatFeature13  CatFeature14  CatFeature15  CatFeature16  CatFeature17  \\\n",
       "0           1.0           1.0           1.0           1.0           1.0   \n",
       "\n",
       "   CatFeature18  CatFeature19  CatFeature20  CatFeature21  CatFeature22  \\\n",
       "0           1.0           1.0           1.0           1.0           1.0   \n",
       "\n",
       "   CatFeature23  CatFeature24  CatFeature25  CatFeature26  \n",
       "0           1.0           1.0           1.0           1.0  "
      ]
     },
     "execution_count": 10,
     "metadata": {},
     "output_type": "execute_result"
    }
   ],
   "source": [
    "# Show the percentage of non-missing values\n",
    "percentage_nonna = df.select(*[(count(c) / count(\"*\")).alias(c) for c in df.columns]).toPandas()\n",
    "percentage_nonna"
   ]
  },
  {
   "cell_type": "markdown",
   "metadata": {
    "deletable": true,
    "editable": true
   },
   "source": [
    "---\n",
    "Missing data can be attributed to many reasons: systems failure, entry-error, data schema changes, and so on. Spark machine learning algorithms cannot handle missing values in numerical features, therefore, we have to either impute some value or remove them.\n",
    "\n",
    "- **Missing values in numerical features**\n",
    "\n",
    "    We choose the simpliest way to handle missing values, i.e. removing the entire row if it contains a missing value. Even though there is a high proportion of missing data especially on IntFeature5 and IntFeature11, the dataset has large enough data points for us to afford dropping them. Needless to say, it is still possible to consider imputing suitable values if we want to look at improving performance.\n",
    "    \n",
    "\n",
    "- **Missing values in categorical features**\n",
    "\n",
    "    Since Spark dataframes read missing values as an empty string ' ', we can rename it to a string 'NA'. Creating a new 'category' is a simple technique to handle missing values in categorical features, since the model will process them as one of the categories in the variable, and it has the ability to detect possible trends or relationships pertaining to it."
   ]
  },
  {
   "cell_type": "code",
   "execution_count": 10,
   "metadata": {
    "collapsed": false,
    "deletable": true,
    "editable": true
   },
   "outputs": [],
   "source": [
    "# Spark DataFrame cant handle empty String in OneHotEncoder\n",
    "# Have to change the empty strings to 'NA'\n",
    "replacements = {'CatFeature1': 'NA', 'CatFeature2': 'NA', 'CatFeature3': 'NA', \n",
    "                'CatFeature4': 'NA', 'CatFeature5': 'NA', 'CatFeature6': 'NA', \n",
    "                'CatFeature7': 'NA', 'CatFeature8': 'NA','CatFeature9': 'NA', \n",
    "                'CatFeature10': 'NA', 'CatFeature11': 'NA', 'CatFeature12': 'NA',\n",
    "                'CatFeature13': 'NA', 'CatFeature14': 'NA', 'CatFeature15': 'NA', \n",
    "                'CatFeature16': 'NA', 'CatFeature17': 'NA', 'CatFeature18': 'NA', \n",
    "                'CatFeature19': 'NA', 'CatFeature20': 'NA', 'CatFeature21': 'NA', \n",
    "                'CatFeature22': 'NA', 'CatFeature23': 'NA', 'CatFeature24': 'NA',\n",
    "                'CatFeature25': 'NA', 'CatFeature26': 'NA'\n",
    "}\n",
    "# same as df = df.na.replace('', 'NA', 'CatFeature1')\n",
    "for k, v in replacements.items():\n",
    "    # We can replace string only if target is string\n",
    "    # In Python 2 str -> basestring\n",
    "    if isinstance(v, str):\n",
    "        df = df.na.replace(\"\", v, [k])"
   ]
  },
  {
   "cell_type": "code",
   "execution_count": 11,
   "metadata": {
    "collapsed": false,
    "deletable": true,
    "editable": true
   },
   "outputs": [],
   "source": [
    "# Drop rows with missing numerical values \n",
    "df = df.dropna()"
   ]
  },
  {
   "cell_type": "markdown",
   "metadata": {
    "deletable": true,
    "editable": true
   },
   "source": [
    "---\n",
    "<a name=\"Create transformer pipelines\"></a>\n",
    "### Create transformer pipelines\n"
   ]
  },
  {
   "cell_type": "markdown",
   "metadata": {
    "deletable": true,
    "editable": true
   },
   "source": [
    "Pipeline stages are the core building block of Spark's MLlib library, the Spark ML pipeline function is inspired by Python's Scikit-Learn. Its purpose is to create a concise, declarative statement of the transformations of the data, so as to efficiently deliver a tunable model[6]. Since ML models require the data to be in a specific format, we proceed to create two pipelines for data preparation: non-one-hot-encoded pipeline, and one-hot-encoded pipeline. \n",
    "\n",
    "The following code constructs a pipeline to streamline the process of readying the training data for training.  `StringIndexer` encodes column of strings into label indices, which is required as an input for `VectorAssembler`. `OneHotEncoder` takes input from the output of `StringIndexer` and maps them (a column of label indices) to a column of binary vectors. At the last stage, the `VectorAssembler` transformer will combine a given list of columns into a vector column, also known as the feature vector. This feature vector, along with the label column, will be passed into the estimator.\n",
    "\n",
    "Note: we will only be using the non-one-hot-encoding pipeline because the classifiers we choose do not require one-hot-encoded features. "
   ]
  },
  {
   "cell_type": "code",
   "execution_count": 12,
   "metadata": {
    "collapsed": false,
    "deletable": true,
    "editable": true
   },
   "outputs": [],
   "source": [
    "column_vec_in = ['CatFeature1', 'CatFeature2', 'CatFeature3', 'CatFeature4', 'CatFeature5', 'CatFeature6',\n",
    "                'CatFeature7', 'CatFeature8', 'CatFeature9', 'CatFeature10', 'CatFeature11', 'CatFeature12',\n",
    "                'CatFeature13', 'CatFeature14', 'CatFeature15', 'CatFeature16', 'CatFeature17', 'CatFeature18',\n",
    "                'CatFeature19', 'CatFeature20', 'CatFeature21', 'CatFeature22', 'CatFeature23', 'CatFeature24',\n",
    "                'CatFeature25', 'CatFeature26']\n",
    "column_vec_out = ['CatFeature1_catVec', 'CatFeature2_catVec', 'CatFeature3_catVec', 'CatFeature4_catVec', \n",
    "                  'CatFeature5_catVec', 'CatFeature6_catVec', 'CatFeature7_catVec', 'CatFeature8_catVec', \n",
    "                  'CatFeature9_catVec', 'CatFeature10_catVec', 'CatFeature11_catVec', 'CatFeature12_catVec',\n",
    "                  'CatFeature13_catVec', 'CatFeature14_catVec', 'CatFeature15_catVec', 'CatFeature16_catVec', \n",
    "                  'CatFeature17_catVec', 'CatFeature18_catVec', 'CatFeature19_catVec', 'CatFeature20_catVec', \n",
    "                  'CatFeature21_catVec', 'CatFeature22_catVec', 'CatFeature23_catVec', 'CatFeature24_catVec', \n",
    "                  'CatFeature25_catVec', 'CatFeature26_catVec']\n",
    " \n",
    "indexers = [StringIndexer(inputCol=x, outputCol=x+'_tmp') for x in column_vec_in ]\n",
    " \n",
    "encoders = [OneHotEncoder(dropLast=False, inputCol=x+\"_tmp\", outputCol=y) for x,y in zip(column_vec_in, column_vec_out)]\n",
    "\n",
    "# 'tmp' holds a list of transformation steps\n",
    "# the zip function is used to create a a list of tuples, in the form of [string]\n",
    "tmp = [i for i in zip(indexers)]\n",
    "tmp = [i for sublist in tmp for i in sublist]\n",
    "\n",
    "tmp_ohe = [[i,j] for i,j in zip(indexers, encoders)]\n",
    "tmp_ohe = [i for sublist in tmp_ohe for i in sublist]"
   ]
  },
  {
   "cell_type": "markdown",
   "metadata": {
    "deletable": true,
    "editable": true
   },
   "source": [
    "`tmp_ohe` returns a list of transformation steps, that is needed to be passed in to the `Pipeline` function. \n",
    "\n",
    "`tmp_ohe`:\n",
    "```python\n",
    "[StringIndexer_43b1ad9c2caa316bd520,\n",
    " OneHotEncoder_4ee1b8f7d082c31e9aee,\n",
    " StringIndexer_4f1ca187b8f7165c1968,\n",
    " OneHotEncoder_4f3e8b386473a525cfa9,\n",
    " StringIndexer_48cf949714e403620ef0,\n",
    "             .\n",
    "             .\n",
    "             .                     ]\n",
    "```"
   ]
  },
  {
   "cell_type": "code",
   "execution_count": 13,
   "metadata": {
    "collapsed": false,
    "deletable": true,
    "editable": true
   },
   "outputs": [],
   "source": [
    "# Prepare labeled sets\n",
    "cols_now_ohe = [ 'IntFeature1', 'IntFeature2', 'IntFeature3',\n",
    "                'IntFeature4', 'IntFeature5', 'IntFeature6',\n",
    "                'IntFeature7', 'IntFeature8', 'IntFeature9',\n",
    "                'IntFeature10', 'IntFeature11', 'IntFeature12',\n",
    "                'IntFeature13',\n",
    "                'CatFeature1_catVec', 'CatFeature2_catVec', 'CatFeature3_catVec', \n",
    "                'CatFeature4_catVec', 'CatFeature5_catVec', 'CatFeature6_catVec', \n",
    "                'CatFeature7_catVec', 'CatFeature8_catVec', 'CatFeature9_catVec', \n",
    "                'CatFeature10_catVec', 'CatFeature11_catVec', 'CatFeature12_catVec',\n",
    "                'CatFeature13_catVec', 'CatFeature14_catVec', 'CatFeature15_catVec',\n",
    "                'CatFeature16_catVec', 'CatFeature17_catVec', 'CatFeature18_catVec', \n",
    "                'CatFeature19_catVec', 'CatFeature20_catVec', 'CatFeature21_catVec', \n",
    "                'CatFeature22_catVec', 'CatFeature23_catVec', 'CatFeature24_catVec', \n",
    "                'CatFeature25_catVec', 'CatFeature26_catVec',\n",
    "]\n",
    "# Prepare labeled sets\n",
    "cols_now = ['IntFeature1', 'IntFeature2', 'IntFeature3',\n",
    "            'IntFeature4', 'IntFeature5', 'IntFeature6', \n",
    "            'IntFeature7', 'IntFeature8', 'IntFeature9',\n",
    "            'IntFeature10', 'IntFeature11', 'IntFeature12',\n",
    "            'IntFeature13',\n",
    "            'CatFeature1_tmp', 'CatFeature2_tmp', 'CatFeature3_tmp', \n",
    "            'CatFeature4_tmp', 'CatFeature5_tmp', 'CatFeature6_tmp', \n",
    "            'CatFeature7_tmp', 'CatFeature8_tmp', 'CatFeature9_tmp', \n",
    "            'CatFeature10_tmp', 'CatFeature11_tmp', 'CatFeature12_tmp', \n",
    "            'CatFeature13_tmp','CatFeature14_tmp', 'CatFeature15_tmp', \n",
    "            'CatFeature16_tmp', 'CatFeature17_tmp', 'CatFeature18_tmp', \n",
    "            'CatFeature19_tmp', 'CatFeature20_tmp', 'CatFeature21_tmp', \n",
    "            'CatFeature22_tmp', 'CatFeature23_tmp', 'CatFeature24_tmp', \n",
    "            'CatFeature25_tmp', 'CatFeature26_tmp']\n",
    "\n",
    "assembler_features = VectorAssembler(inputCols=cols_now, outputCol='features')\n",
    "assembler_features_ohe = VectorAssembler(inputCols=cols_now_ohe, outputCol='features')\n",
    "\n",
    "labelIndexer = StringIndexer(inputCol='binary', outputCol=\"label\")\n",
    "\n",
    "# Construct the pipelines using the list of transformation steps we constructed earlier\n",
    "# Non-one-hot-encoded pipeline\n",
    "tmp += [assembler_features, labelIndexer]\n",
    "pipeline= Pipeline(stages=tmp)\n",
    "\n",
    "# One-hot-encoded pipeline\n",
    "tmp_ohe += [assembler_features_ohe, labelIndexer]\n",
    "pipeline_ohe = Pipeline(stages=tmp_ohe)"
   ]
  },
  {
   "cell_type": "code",
   "execution_count": 14,
   "metadata": {
    "collapsed": false,
    "deletable": true,
    "editable": true
   },
   "outputs": [
    {
     "data": {
      "text/plain": [
       "DataFrame[binary: string, IntFeature1: int, IntFeature2: int, IntFeature3: int, IntFeature4: int, IntFeature5: int, IntFeature6: int, IntFeature7: int, IntFeature8: int, IntFeature9: int, IntFeature10: int, IntFeature11: int, IntFeature12: int, IntFeature13: int, CatFeature1: string, CatFeature2: string, CatFeature3: string, CatFeature4: string, CatFeature5: string, CatFeature6: string, CatFeature7: string, CatFeature8: string, CatFeature9: string, CatFeature10: string, CatFeature11: string, CatFeature12: string, CatFeature13: string, CatFeature14: string, CatFeature15: string, CatFeature16: string, CatFeature17: string, CatFeature18: string, CatFeature19: string, CatFeature20: string, CatFeature21: string, CatFeature22: string, CatFeature23: string, CatFeature24: string, CatFeature25: string, CatFeature26: string, CatFeature1_tmp: double, CatFeature2_tmp: double, CatFeature3_tmp: double, CatFeature4_tmp: double, CatFeature5_tmp: double, CatFeature6_tmp: double, CatFeature7_tmp: double, CatFeature8_tmp: double, CatFeature9_tmp: double, CatFeature10_tmp: double, CatFeature11_tmp: double, CatFeature12_tmp: double, CatFeature13_tmp: double, CatFeature14_tmp: double, CatFeature15_tmp: double, CatFeature16_tmp: double, CatFeature17_tmp: double, CatFeature18_tmp: double, CatFeature19_tmp: double, CatFeature20_tmp: double, CatFeature21_tmp: double, CatFeature22_tmp: double, CatFeature23_tmp: double, CatFeature24_tmp: double, CatFeature25_tmp: double, CatFeature26_tmp: double, features: vector, label: double]"
      ]
     },
     "execution_count": 14,
     "metadata": {},
     "output_type": "execute_result"
    }
   ],
   "source": [
    "traindf_transformer = pipeline.fit(df).transform(df)\n",
    "traindf_transformer.cache()"
   ]
  },
  {
   "cell_type": "code",
   "execution_count": 17,
   "metadata": {
    "collapsed": false,
    "deletable": true,
    "editable": true
   },
   "outputs": [
    {
     "data": {
      "text/plain": [
       "DataFrame[binary: string, IntFeature1: int, IntFeature2: int, IntFeature3: int, IntFeature4: int, IntFeature5: int, IntFeature6: int, IntFeature7: int, IntFeature8: int, IntFeature9: int, IntFeature10: int, IntFeature11: int, IntFeature12: int, IntFeature13: int, CatFeature1: string, CatFeature2: string, CatFeature3: string, CatFeature4: string, CatFeature5: string, CatFeature6: string, CatFeature7: string, CatFeature8: string, CatFeature9: string, CatFeature10: string, CatFeature11: string, CatFeature12: string, CatFeature13: string, CatFeature14: string, CatFeature15: string, CatFeature16: string, CatFeature17: string, CatFeature18: string, CatFeature19: string, CatFeature20: string, CatFeature21: string, CatFeature22: string, CatFeature23: string, CatFeature24: string, CatFeature25: string, CatFeature26: string, CatFeature1_tmp: double, CatFeature1_catVec: vector, CatFeature2_tmp: double, CatFeature2_catVec: vector, CatFeature3_tmp: double, CatFeature3_catVec: vector, CatFeature4_tmp: double, CatFeature4_catVec: vector, CatFeature5_tmp: double, CatFeature5_catVec: vector, CatFeature6_tmp: double, CatFeature6_catVec: vector, CatFeature7_tmp: double, CatFeature7_catVec: vector, CatFeature8_tmp: double, CatFeature8_catVec: vector, CatFeature9_tmp: double, CatFeature9_catVec: vector, CatFeature10_tmp: double, CatFeature10_catVec: vector, CatFeature11_tmp: double, CatFeature11_catVec: vector, CatFeature12_tmp: double, CatFeature12_catVec: vector, CatFeature13_tmp: double, CatFeature13_catVec: vector, features: vector, label: double]"
      ]
     },
     "execution_count": 17,
     "metadata": {},
     "output_type": "execute_result"
    }
   ],
   "source": [
    "traindf_transformer_ohe = pipeline_ohe.fit(df).transform(df)\n",
    "traindf_transformer_ohe.cache()"
   ]
  },
  {
   "cell_type": "markdown",
   "metadata": {
    "deletable": true,
    "editable": true
   },
   "source": [
    "#### Train set and Test set split"
   ]
  },
  {
   "cell_type": "code",
   "execution_count": 15,
   "metadata": {
    "collapsed": true,
    "deletable": true,
    "editable": true
   },
   "outputs": [],
   "source": [
    "traindf, testdf = traindf_transformer.randomSplit([0.7,0.3], seed=7)\n",
    "#traindf_ohe, testdf_ohe = traindf_transformer_ohe.randomSplit([0.7,0.3], seed=7)"
   ]
  },
  {
   "cell_type": "code",
   "execution_count": null,
   "metadata": {
    "collapsed": false,
    "deletable": true,
    "editable": true
   },
   "outputs": [],
   "source": [
    "#testdf = testdf.withColumnRenamed(\"binary\", \"trueLabel\")\n",
    "traindf_rows = traindf.count()\n",
    "testdf_rows = testdf.count()"
   ]
  },
  {
   "cell_type": "code",
   "execution_count": 32,
   "metadata": {
    "collapsed": false,
    "deletable": true,
    "editable": true
   },
   "outputs": [
    {
     "name": "stdout",
     "output_type": "stream",
     "text": [
      "No. of training instances: 438684\n",
      "No. of testing instances: 188895"
     ]
    }
   ],
   "source": [
    "# Count is based on 1% sample of dataset\n",
    "print \"No. of training instances:\", traindf_rows\n",
    "print \"No. of testing instances:\", testdf_rows"
   ]
  },
  {
   "cell_type": "code",
   "execution_count": 21,
   "metadata": {
    "collapsed": false,
    "deletable": true,
    "editable": true
   },
   "outputs": [
    {
     "name": "stdout",
     "output_type": "stream",
     "text": [
      "No. of training instances: 2193659\n",
      "No. of testing instances: 940443"
     ]
    }
   ],
   "source": [
    "# Count is based on 5% sample of dataset\n",
    "print \"No. of training instances:\", traindf_rows\n",
    "print \"No. of testing instances:\", testdf_rows"
   ]
  },
  {
   "cell_type": "code",
   "execution_count": 18,
   "metadata": {
    "collapsed": false,
    "deletable": true,
    "editable": true
   },
   "outputs": [
    {
     "name": "stdout",
     "output_type": "stream",
     "text": [
      "No. of training instances: 4389779\n",
      "No. of testing instances: 1880522"
     ]
    }
   ],
   "source": [
    "# Count is based on 10% sample of dataset\n",
    "print \"No. of training instances:\", traindf_rows\n",
    "print \"No. of testing instances:\", testdf_rows"
   ]
  },
  {
   "cell_type": "code",
   "execution_count": 52,
   "metadata": {
    "collapsed": false,
    "deletable": true,
    "editable": true
   },
   "outputs": [
    {
     "name": "stdout",
     "output_type": "stream",
     "text": [
      "('Distribution of Pos and Neg in trainingData is: ', [Row(label=0.0, count=423242), Row(label=1.0, count=16322)])"
     ]
    }
   ],
   "source": [
    "print(\"Distribution of Pos and Neg in trainingData is: \", traindf.groupBy(\"label\").count().take(3))"
   ]
  },
  {
   "cell_type": "markdown",
   "metadata": {
    "deletable": true,
    "editable": true
   },
   "source": [
    "<a name=\"Overview of machine learning algorithms used\"></a>\n",
    "### Overview of machine learning algorithms used\n"
   ]
  },
  {
   "cell_type": "markdown",
   "metadata": {
    "deletable": true,
    "editable": true
   },
   "source": [
    "**Logistic Regression with Elastic Net Regularization**\n",
    "\n",
    "Logistic regression models the relationship between a response variable and one or more numerical or categorical independent variables. It models the the log odds of the explanatory variables as a linear combination of the independent variables by minimizing the logistic loss function (objective function). To avoid overfitting, the logistic loss function of logistic regression nowadays likely includes a regularization term. It applies particularly well to senarios with high dimensionality. MLlib's built-in logistic regression offers elastic net regularization[9], where elastic net refers to a regularized regression method that linearly combines the $l_1$ and $l_2$ penalties of lasso and ridge methods.[8] Although the other popular machine libraries provides a multitude of minimization methods, such as Newton method, Gradient Descent, BFGS and Cyclical Coordinate Descent, Spark's Dataframe-based machine learning library only implemented Cyclical Coordinate Descent as the minimization method, which is preferred for elastic net regularization.\n",
    "\n",
    "Coordinate Descent (CD) methods are commonly seen in convex minimization problems with $l_1$, $l_2$ constraints. Each coordinate-descent step is fast, with an explicit formula for each coordinate-wise minimization. Coordinate descent operates with the assumption that slowly decreasing each of the coordinates will yield a solution. The CD method is an iterative algorithm that performs approximate global minimizations with respect to a single coordinate (or several coordinates in the case of block CD) in a sequential manner[23]. More specifically, at each iteration k, an index $i_k \\in {1,2, ..., n}$ is selected and the decision vector is updated to approximately minimize the objective function in the $i_k$-th coordinate. Picture a simple function $f(x,y)$, then coordinate descent starts at some point $(x_0,y_0)$ and then take small steps along the $x$ direction until the error is reduced to the minimum, then it proceeds from $(x,y_0)$ and moves along the $y$ direction to reduce error once again.[22]  There are two main variants of CD, Cyclical and Randomized. Spark ML's logistic regression classifier uses Cyclical CD, which chooses its indices in a cyclical manner, whereas Ramdomized CD chooses its indices by uniformly sampling the set of indices. One may wish to find out more about CD methods on papers by Friedman et al.[23] and Gurbuzbalaban[22].\n",
    "\n",
    "\n",
    "**Multilayer Perceptron**\n",
    "\n",
    "Multilayer Perceptron (MLP) is one of the most common types of Deep Neural Networks (DNN). A DNN is an Artificial Neural Network (ANN) with multiple hidden layers of units between input and output layers. Made up of interconnecting artificial neurons, ANN is loosely related to the way a brain works; the signal between artificial neurons is a real number, and output of each of them is calculated by a non-linear function of the sum of its inputs. MLP's ability to learn non-linear and complex relationships makes it a reliable choice in this high dimensionality setting[11]. \n",
    "\n",
    "In the current implementation of Spark ML API, the Multilayer perceptron classifier (MLPC) is a classifier based on the feedforward artificial neural network[12]. It uses backpropagation when learning, which is a method to calculate the gradient needed for the computation of weights used in a network. Spark uses the logistic loss function for optimization and L-BFGS an the optimization routine. Simply put, L-BFGS, Limited-memory Broyden-Fletcher-Goldfarb-Shanno, is an optimization algorithm for parameter estimation in machine learning[12]. The scalability of MLP can be explained as follows: \n",
    "\n",
    "Typically, in a non-distributed setting, the algorithm compute a gradient at each iteration, and then update the parameters accordingly. In Spark, at each iteration, all the executers receive the weights from master, then each executer computes the gradient based on its local data. After that is finished, the gradients are sent back to the master, which then computes the new vector of parameters based on the gradients, this process repeats until the the network is converged. The challenge pertaining to this distributed setting lies in choosing the optimal number of workers to use. It is understood that using less workers implies less compute power, more workers implies a possibility of communication overhead. There are no surefire ways to find the optimal number of workers to use, except trying out different configurations of worker nodes and analyzing the results, which is time consuming. Alexander Ulanov, a research scientist in Hewlett Packard, came up with a heuristic in deciding the number of workers to minimize communication overhead[13]. In this report, we will not explore this. However, we will access how the variability of worker nodes affect computation time. "
   ]
  },
  {
   "cell_type": "markdown",
   "metadata": {
    "deletable": true,
    "editable": true
   },
   "source": [
    "<a name=\"Create estimator and parameter hyper-tuning\"></a>\n",
    "### Create estimator and parameter hyper-tuning\n"
   ]
  },
  {
   "cell_type": "markdown",
   "metadata": {
    "deletable": true,
    "editable": true
   },
   "source": [
    "We will proceed with specifying our models and the list of parameters we want to loop through. We use the `ParamGridBuilder()` object from the `.tuning` subpackage, and add parameters to the grid with the `addGrid()` method."
   ]
  },
  {
   "cell_type": "code",
   "execution_count": 19,
   "metadata": {
    "collapsed": false,
    "deletable": true,
    "editable": true
   },
   "outputs": [],
   "source": [
    "import pyspark.ml.tuning as tune\n",
    "import pyspark.ml.evaluation as ev\n",
    "\n",
    "# Specify models\n",
    "logistic = cl.LogisticRegression(labelCol='label', featuresCol='features', maxIter=20, regParam=0.01)\n",
    "\n",
    "layers = [39, 20, 2]\n",
    "mlp = cl.MultilayerPerceptronClassifier(maxIter=100, layers=layers, blockSize=128, stepSize=0.03,seed=7)\n",
    "\n",
    "\n",
    "# Add Grids\n",
    "grid_logistic = tune.ParamGridBuilder() \\\n",
    "    .addGrid(logistic.maxIter, [2, 10, 20]) \\\n",
    "    .addGrid(logistic.regParam, [0.01, 0.3]) \\\n",
    "    .build()\n",
    "    \n",
    "grid_mlp = tune.ParamGridBuilder()\\\n",
    "    .addGrid(mlp.maxIter, [50,100,150])\\\n",
    "    .addGrid(mlp.solver, [\"l-bfgs\", \"gd\"]) \\\n",
    "    .addGrid(mlp.stepSize, [0.03, 0.02, 0.01]) \\\n",
    "    .build()\n",
    "    \n",
    "\n",
    "evaluator = ev.BinaryClassificationEvaluator(rawPredictionCol='probability', labelCol='label')\n",
    "evaluator1 = ev.BinaryClassificationEvaluator()\n",
    "evaluator2 = MulticlassClassificationEvaluator(labelCol=\"label\", predictionCol=\"prediction\", metricName=\"accuracy\")\n",
    "\n",
    "# Create 5-fold CrossValidator\n",
    "cv_logistic = tune.CrossValidator(estimator=logistic, estimatorParamMaps=grid_logistic, evaluator=evaluator, numFolds=5)\n",
    "cv_mlp = tune.CrossValidator(estimator=mlp, estimatorParamMaps=grid_mlp, evaluator=evaluator2, numFolds=5)"
   ]
  },
  {
   "cell_type": "code",
   "execution_count": 56,
   "metadata": {
    "collapsed": false,
    "deletable": true,
    "editable": true
   },
   "outputs": [
    {
     "data": {
      "text/plain": [
       "\"aggregationDepth: suggested depth for treeAggregate (>= 2). (default: 2)\\nelasticNetParam: the ElasticNet mixing parameter, in range [0, 1]. For alpha = 0, the penalty is an L2 penalty. For alpha = 1, it is an L1 penalty. (default: 0.0)\\nfamily: The name of family which is a description of the label distribution to be used in the model. Supported options: auto, binomial, multinomial (default: auto)\\nfeaturesCol: features column name. (default: features, current: features)\\nfitIntercept: whether to fit an intercept term. (default: True)\\nlabelCol: label column name. (default: label, current: label)\\nmaxIter: max number of iterations (>= 0). (default: 100)\\npredictionCol: prediction column name. (default: prediction)\\nprobabilityCol: Column name for predicted class conditional probabilities. Note: Not all models output well-calibrated probability estimates! These probabilities should be treated as confidences, not precise probabilities. (default: probability)\\nrawPredictionCol: raw prediction (a.k.a. confidence) column name. (default: rawPrediction)\\nregParam: regularization parameter (>= 0). (default: 0.0)\\nstandardization: whether to standardize the training features before fitting the model. (default: True)\\nthreshold: Threshold in binary classification prediction, in range [0, 1]. If threshold and thresholds are both set, they must match.e.g. if threshold is p, then thresholds must be equal to [1-p, p]. (default: 0.5)\\nthresholds: Thresholds in multi-class classification to adjust the probability of predicting each class. Array must have length equal to the number of classes, with values > 0, excepting that at most one value may be 0. The class with largest value p/t is predicted, where p is the original probability of that class and t is the class's threshold. (undefined)\\ntol: the convergence tolerance for iterative algorithms (>= 0). (default: 1e-06)\\nweightCol: weight column name. If this is not set or empty, we treat all instance weights as 1.0. (undefined)\""
      ]
     },
     "execution_count": 56,
     "metadata": {},
     "output_type": "execute_result"
    }
   ],
   "source": [
    "# Show available parameters for logistic regression classifier\n",
    "cl.LogisticRegression.explainParams(logistic)"
   ]
  },
  {
   "cell_type": "code",
   "execution_count": 82,
   "metadata": {
    "collapsed": false,
    "deletable": true,
    "editable": true
   },
   "outputs": [
    {
     "data": {
      "text/plain": [
       "'blockSize: Block size for stacking input data in matrices. Data is stacked within partitions. If block size is more than remaining data in a partition then it is adjusted to the size of this data. Recommended size is between 10 and 1000, default is 128. (default: 128, current: 128)\\nfeaturesCol: features column name. (default: features)\\ninitialWeights: The initial weights of the model. (undefined)\\nlabelCol: label column name. (default: label)\\nlayers: Sizes of layers from input layer to output layer E.g., Array(780, 100, 10) means 780 inputs, one hidden layer with 100 neurons and output layer of 10 neurons. (current: [26, 20, 20, 2])\\nmaxIter: max number of iterations (>= 0). (default: 100, current: 200)\\npredictionCol: prediction column name. (default: prediction)\\nseed: random seed. (default: -4740013646608911034, current: 7)\\nsolver: The solver algorithm for optimization. Supported options: l-bfgs, gd. (default: l-bfgs)\\nstepSize: Step size to be used for each iteration of optimization (>= 0). (default: 0.03)\\ntol: the convergence tolerance for iterative algorithms (>= 0). (default: 0.0001)'"
      ]
     },
     "execution_count": 82,
     "metadata": {},
     "output_type": "execute_result"
    }
   ],
   "source": [
    "# Show available parameters for multilayer perceptron classifier\n",
    "cl.MultilayerPerceptronClassifier.explainParams(mlp)"
   ]
  },
  {
   "cell_type": "markdown",
   "metadata": {
    "deletable": true,
    "editable": true
   },
   "source": [
    "Now, to find the optimal combination of parameters for model, we call `fit()` function, where the output `cvModel_model` will return the best model estimated."
   ]
  },
  {
   "cell_type": "code",
   "execution_count": null,
   "metadata": {
    "collapsed": false,
    "deletable": true,
    "editable": true,
    "scrolled": true
   },
   "outputs": [
    {
     "name": "stdout",
     "output_type": "stream",
     "text": [
      "Classifier trained in 2533.153 seconds"
     ]
    }
   ],
   "source": [
    "t0 = time()\n",
    "cvModel_mlp = cv_mlp.fit(traindf)\n",
    "tt = time() - t0\n",
    "print (\"Classifier trained in {} seconds\".format(round(tt,3)))"
   ]
  },
  {
   "cell_type": "code",
   "execution_count": 20,
   "metadata": {
    "collapsed": false,
    "deletable": true,
    "editable": true
   },
   "outputs": [
    {
     "name": "stdout",
     "output_type": "stream",
     "text": [
      "Classifier trained in 185.135 seconds"
     ]
    }
   ],
   "source": [
    "t0 = time()\n",
    "cvModel_logistic = cv_logistic.fit(traindf)\n",
    "tt = time() - t0\n",
    "print (\"Classifier trained in {} seconds\".format(round(tt,3)))"
   ]
  },
  {
   "cell_type": "markdown",
   "metadata": {
    "deletable": true,
    "editable": true
   },
   "source": [
    "#### Functions"
   ]
  },
  {
   "cell_type": "code",
   "execution_count": 21,
   "metadata": {
    "collapsed": true,
    "deletable": true,
    "editable": true
   },
   "outputs": [],
   "source": [
    "# Define a function for displaying results\n",
    "def evaluateModel(results, mlp):\n",
    "\n",
    "    predictions_logistic = results.select(col(\"label\").cast(\"Float\"),col(\"prediction\"))\n",
    "\n",
    "    evalulator_a = MulticlassClassificationEvaluator(labelCol=\"label\", predictionCol=\"prediction\", metricName=\"accuracy\")\n",
    "    accuracy = evalulator_a.evaluate(predictions_logistic)\n",
    "    print(\"Test Accuracy = %g\" % accuracy)\n",
    "\n",
    "    evaluator_f1 = MulticlassClassificationEvaluator(labelCol=\"label\", predictionCol=\"prediction\", metricName=\"f1\")\n",
    "    f1 = evaluator_f1.evaluate(predictions_logistic)\n",
    "    print(\"Test F1 = %g\" % f1)\n",
    "\n",
    "    evaluator_wp = MulticlassClassificationEvaluator(labelCol=\"label\", predictionCol=\"prediction\", metricName=\"weightedPrecision\")\n",
    "    wp = evaluator_wp.evaluate(predictions_logistic)\n",
    "    print(\"Test Weighted Precision = %g\" % wp)\n",
    "\n",
    "    evaluator_wr = MulticlassClassificationEvaluator(labelCol=\"label\", predictionCol=\"prediction\", metricName=\"weightedRecall\")\n",
    "    wr = evaluator_wr.evaluate(predictions_logistic)\n",
    "    print(\"Test Weighted Recall = %g\" % wr)\n",
    "    \n",
    "    if mlp== False:\n",
    "        evaluator1 = ev.BinaryClassificationEvaluator()\n",
    "        print('Area under ROC curve =', evaluator1.evaluate(results))"
   ]
  },
  {
   "cell_type": "code",
   "execution_count": 22,
   "metadata": {
    "collapsed": true,
    "deletable": true,
    "editable": true
   },
   "outputs": [],
   "source": [
    "# Define a function that gives the parameters used that produces the best cv score\n",
    "def getBestParam(model, cv_results):\n",
    "    cv_results = [([{key.name: paramValue} for key, paramValue in zip(params.keys(), params.values())], metric) \\\n",
    "                  for params, metric in zip(model.getEstimatorParamMaps(), model.avgMetrics)]\n",
    "\n",
    "    return sorted(cv_results, key=lambda el: el[1], reverse=True)[0]"
   ]
  },
  {
   "cell_type": "code",
   "execution_count": 23,
   "metadata": {
    "collapsed": true,
    "deletable": true,
    "editable": true
   },
   "outputs": [],
   "source": [
    "# A function that shows the confusion matrix of test predictions\n",
    "def calculate_confusion_matrix(predictions):\n",
    "    tp = float(predictions[(predictions.label == 1) & (predictions.prediction == 1)].count())\n",
    "    tn = float(predictions[(predictions.label == 0) & (predictions.prediction == 0)].count())\n",
    "    fp = float(predictions[(predictions.label == 0) & (predictions.prediction == 1)].count())\n",
    "    fn = float(predictions[(predictions.label == 1) & (predictions.prediction == 0)].count())\n",
    "    se = float(tp/(tp+fn))\n",
    "    sp = float(tn/(tn+fp))\n",
    "    print(\n",
    "    \"\"\"|=================== Confusion matrix =======================\n",
    "    |#############| Predicted = 1   | Predicted = 0\n",
    "    |-------------+-------------------------------------------------\n",
    "    |Actual = 1   | {}               |   {}\n",
    "    |Actual = 0   | {}               |   {}\n",
    "    |===============================================================\n",
    "    Sensitivity: {}\n",
    "    Specificity: {}\n",
    "    \"\"\".format(tp, fn, fp, tn, se, sp))"
   ]
  },
  {
   "cell_type": "markdown",
   "metadata": {
    "deletable": true,
    "editable": true
   },
   "source": [
    "---\n",
    "#### Fitting the model on the test set"
   ]
  },
  {
   "cell_type": "code",
   "execution_count": 40,
   "metadata": {
    "collapsed": false,
    "deletable": true,
    "editable": true
   },
   "outputs": [
    {
     "name": "stdout",
     "output_type": "stream",
     "text": [
      "Test Accuracy = 0.963885\n",
      "Test F1 = 0.946196\n",
      "Test Weighted Precision = 0.934284\n",
      "Test Weighted Recall = 0.963885\n",
      "('Area under ROC curve =', 0.67938794720083)"
     ]
    }
   ],
   "source": [
    "# Logistic Regression (Regularized)\n",
    "\n",
    "results_logistic = cvModel_logistic.transform(testdf)\n",
    "evaluateModel(results_logistic, False)"
   ]
  },
  {
   "cell_type": "code",
   "execution_count": 36,
   "metadata": {
    "collapsed": false,
    "deletable": true,
    "editable": true,
    "scrolled": true
   },
   "outputs": [
    {
     "name": "stdout",
     "output_type": "stream",
     "text": [
      "Test Accuracy = 0.963556\n",
      "Test F1 = 0.945673\n",
      "Test Weighted Precision = 0.928441\n",
      "Test Weighted Recall = 0.963556"
     ]
    }
   ],
   "source": [
    "# Multilayer Perceptron\n",
    "# Since Spark's MLP application does not output probabilities along with predictions, \n",
    "# Area under ROC curve and LogLoss cannot be calculated.\n",
    "\n",
    "results_mlp  = cvModel_mlp.transform(testdf)\n",
    "evaluateModel(results_mlp, True)"
   ]
  },
  {
   "cell_type": "code",
   "execution_count": 68,
   "metadata": {
    "collapsed": false,
    "deletable": true,
    "editable": true,
    "scrolled": true
   },
   "outputs": [
    {
     "name": "stdout",
     "output_type": "stream",
     "text": [
      "|=================== Confusion matrix =======================\n",
      "    |#############| Predicted = 1   | Predicted = 0\n",
      "    |-------------+-------------------------------------------------\n",
      "    |Actual = 1   | 1.0               |   6895.0\n",
      "    |Actual = 0   | 4.0               |   182323.0\n",
      "    |===============================================================\n",
      "    Sensitivity: 0.000145011600928\n",
      "    Specificity: 0.999978061395"
     ]
    }
   ],
   "source": [
    "calculate_confusion_matrix(results_logistic)"
   ]
  },
  {
   "cell_type": "code",
   "execution_count": null,
   "metadata": {
    "collapsed": false,
    "deletable": true,
    "editable": true
   },
   "outputs": [
    {
     "name": "stdout",
     "output_type": "stream",
     "text": [
      "|=================== Confusion matrix =======================\n",
      "    |#############| Predicted = 1   | Predicted = 0\n",
      "    |-------------+-------------------------------------------------\n",
      "    |Actual = 1   | 2               |   68980\n",
      "    |Actual = 0   | 22               |   1811518\n",
      "    |==============================================================="
     ]
    }
   ],
   "source": [
    "calculate_confusion_matrix(results_mlp)"
   ]
  },
  {
   "cell_type": "code",
   "execution_count": 49,
   "metadata": {
    "collapsed": false,
    "deletable": true,
    "editable": true
   },
   "outputs": [
    {
     "data": {
      "text/plain": [
       "([{'maxIter': 100}, {'solver': 'gd'}, {'stepSize': 0.03}], 0.962667755123565)"
      ]
     },
     "execution_count": 49,
     "metadata": {},
     "output_type": "execute_result"
    }
   ],
   "source": [
    "# Get the parameters for the best Multilayer Perceptron model\n",
    "getBestParam(cvModel_mlp, results_mlp)"
   ]
  },
  {
   "cell_type": "markdown",
   "metadata": {
    "deletable": true,
    "editable": true
   },
   "source": [
    "#### Select the best model"
   ]
  },
  {
   "cell_type": "code",
   "execution_count": 26,
   "metadata": {
    "collapsed": false,
    "deletable": true,
    "editable": true
   },
   "outputs": [],
   "source": [
    "bestModel = cvModel_logistic.bestModel\n",
    "finalPredictions = bestModel.transform(testdf)\n",
    "#finalPredictions = results_logistic"
   ]
  },
  {
   "cell_type": "code",
   "execution_count": 64,
   "metadata": {
    "collapsed": false,
    "deletable": true,
    "editable": true
   },
   "outputs": [
    {
     "name": "stdout",
     "output_type": "stream",
     "text": [
      "The ROC score is:  0.6852957135105806\n"
     ]
    }
   ],
   "source": [
    "from pyspark.mllib.evaluation import BinaryClassificationMetrics as metric\n",
    "finalPredictions = finalPredictions.select(['probability', 'label'])\n",
    " \n",
    "## prepare score-label set\n",
    "results_collect = finalPredictions.collect()\n",
    "results_list = [(float(i[0][0]), 1.0-float(i[1])) for i in results_collect]\n",
    "scoreAndLabels = sc.parallelize(results_list)\n",
    " \n",
    "metrics = metric(scoreAndLabels)\n",
    "print(\"The ROC score is: \", metrics.areaUnderROC)"
   ]
  },
  {
   "cell_type": "code",
   "execution_count": 65,
   "metadata": {
    "collapsed": false,
    "deletable": true,
    "editable": true
   },
   "outputs": [
    {
     "data": {
      "image/png": "[encoded data removed]",
      "text/plain": [
       "<matplotlib.figure.Figure at 0x2667c3e2b38>"
      ]
     },
     "metadata": {},
     "output_type": "display_data"
    }
   ],
   "source": [
    "# Plot ROC curve\n",
    "from sklearn.metrics import roc_curve, auc\n",
    "from matplotlib import pyplot as plt\n",
    "%matplotlib inline\n",
    "\n",
    "fpr = dict()\n",
    "tpr = dict()\n",
    "roc_auc = dict()\n",
    " \n",
    "y_test = [i[1] for i in results_list]\n",
    "y_score = [i[0] for i in results_list]\n",
    " \n",
    "fpr, tpr, _ = roc_curve(y_test, y_score)\n",
    "roc_auc = auc(fpr, tpr)\n",
    " \n",
    "%matplotlib inline\n",
    "plt.figure()\n",
    "plt.plot(fpr, tpr, label='ROC curve (area = %0.2f)' % roc_auc)\n",
    "plt.plot([0, 1], [0, 1], 'k--')\n",
    "plt.xlim([0.0, 1.0])\n",
    "plt.ylim([0.0, 1.05])\n",
    "plt.xlabel('False Positive Rate')\n",
    "plt.ylabel('True Positive Rate')\n",
    "plt.title('Receiver operating characteristic example')\n",
    "plt.legend(loc=\"lower right\")\n",
    "plt.show()"
   ]
  },
  {
   "cell_type": "markdown",
   "metadata": {
    "deletable": true,
    "editable": true
   },
   "source": [
    "---\n",
    "<a name=\"Interpretation of results\"></a>\n",
    "### Interpretation of results\n"
   ]
  },
  {
   "cell_type": "markdown",
   "metadata": {
    "deletable": true,
    "editable": true
   },
   "source": [
    "Given the imbalanced distribution of labels, accuracy would be a poor choice of evaluation metric because the results would be misleading since minority classes hold minimal effect on overall accuracy. Other than being interested in whether the classification is correct or not, we might also be concerned with the true positive rate, also known as sensitivity. It measures the proportion of positives that are correctly identified as such. \n",
    "```\n",
    "\t|= Confusion matrix for logistic regression (2 mil instances) =\n",
    "    |#############| Predicted = 1   | Predicted = 0\n",
    "    |-------------+-------------------------------------------------\n",
    "    |Actual = 1   | 2               |   68980\n",
    "    |Actual = 0   | 22              |   1811518\n",
    "    |===============================================================\n",
    "```\n",
    "In the confusion matrix above, the sensitivity score is almost 0%, which means that the model is poorly predicting any postives. It failed to predict 68980 clicked instances, which is over 99% of all clicked instances. This is largely due to the class imbalance problem.\n",
    "\n",
    "Although a certain degree of hyper parameter tuning was attempted, however, due to the size of the data, it is challenging to improve on the quality on the tuning when given a time constraint. Furthermore, the cross validation parameter tuning selects the best model in each fold using the cross-validated accuracy as metric, which is not reliable in this case. Therefore, the efforts of hyper parameter tuning are fruitless here.\n",
    "\n",
    "When trained on 2 million rows, test accuracy scores of both models were competitive, with Logistic Regression achieving 0.959, and Multilayer Perceptron achieving 0.964. Since Spark MLlib's MLP classifier does not produce probabiliies along with predicted labels, we are unable to output the Area under ROC (AUC) score. Therefore, the only way to sensibly compare the both models is to address the class imbalance first, and then compare the accuracy scores, or use different metric."
   ]
  },
  {
   "cell_type": "markdown",
   "metadata": {
    "deletable": true,
    "editable": true
   },
   "source": [
    "---\n",
    "<a name=\"Address the class imbalance problem\"></a>\n",
    "### Address the class imbalance problem\n"
   ]
  },
  {
   "cell_type": "markdown",
   "metadata": {
    "deletable": true,
    "editable": true
   },
   "source": [
    "We will proceed to illustrate the class imbalance problem with a smaller dataset with 40K instances. As seen in the pie chart below, for the train set, 96.27% of labels comprises of 'non-clicked' and only 3.73% of it is 'clicked'. This is a clear indication that we were facing a **class imbalance problem**. \n",
    "\n",
    "The class imbalance problem is known to heavily bias models because they focus more on the\n",
    "classification of the majority sample while ignoring or misclassifying the minority sample, which causes a\n",
    "classifier to perform sub-optimally.\n",
    "\n",
    "In the following, we will implement down-sampling, or random under-sampling (RUS), to randomly eliminate samples from the majority class, with the goal of bringing the distribution of the dataset closer to the optimal distribution. Resampling involves drawing repeated samples from the original dataset. In this case, we resample the dataset to strategically bring the distribution of the data set closer to the optimal distribution by removing samples from the majority class and/or adding samples to the minority class. \n"
   ]
  },
  {
   "cell_type": "markdown",
   "metadata": {
    "collapsed": false,
    "deletable": true,
    "editable": true
   },
   "source": [
    "Note: For dataset with 40K instances, initial distribution of labels (classes) is  4228 instances to 303 instances"
   ]
  },
  {
   "cell_type": "code",
   "execution_count": 21,
   "metadata": {
    "collapsed": false,
    "deletable": true,
    "editable": true,
    "scrolled": true
   },
   "outputs": [
    {
     "data": {
      "text/plain": [
       "<matplotlib.axes._subplots.AxesSubplot at 0x1cdb29d2828>"
      ]
     },
     "execution_count": 21,
     "metadata": {},
     "output_type": "execute_result"
    },
    {
     "data": {
      "image/png": "[encoded data removed]",
      "text/plain": [
       "<matplotlib.figure.Figure at 0x1cdb29d20f0>"
      ]
     },
     "metadata": {},
     "output_type": "display_data"
    }
   ],
   "source": [
    "page_views_by_labels_pandas = traindf.groupBy('label').count().toPandas()\n",
    "page_views_by_labels_pandas\n",
    "%matplotlib inline\n",
    "page_views_by_labels_pandas.plot.pie(y='count', figsize=(5, 5), labels=['no click', 'click',], \n",
    "                                     title='Clicks Pie Chart', autopct='%.2f', fontsize=9)"
   ]
  },
  {
   "cell_type": "markdown",
   "metadata": {
    "deletable": true,
    "editable": true
   },
   "source": [
    "In the graph below, we can observe that the predicted probabiliies are highly skewed towards the positive cases (non-clicked). "
   ]
  },
  {
   "cell_type": "code",
   "execution_count": 27,
   "metadata": {
    "collapsed": false,
    "deletable": true,
    "editable": true
   },
   "outputs": [
    {
     "data": {
      "image/png": "[encoded data removed]",
      "text/plain": [
       "<matplotlib.figure.Figure at 0x1a9baa77c88>"
      ]
     },
     "metadata": {},
     "output_type": "display_data"
    },
    {
     "data": {
      "image/png": "[encoded data removed]",
      "text/plain": [
       "<matplotlib.figure.Figure at 0x1a9ba3b97f0>"
      ]
     },
     "metadata": {},
     "output_type": "display_data"
    }
   ],
   "source": [
    "all_probs = finalPredictions.select(\"probability\").collect()\n",
    "pos_probs = [i[0][0] for i in all_probs]\n",
    "neg_probs = [i[0][1] for i in all_probs]\n",
    " \n",
    "from matplotlib import pyplot as plt\n",
    "%matplotlib inline\n",
    " \n",
    "# pos\n",
    "plt.hist(pos_probs, 50, normed=1, facecolor='green', alpha=0.75)\n",
    "plt.xlabel('predicted_values')\n",
    "plt.ylabel('Counts')\n",
    "plt.title('Probabilities for non-clicked cases')\n",
    "plt.grid(True)\n",
    "plt.show()\n",
    " \n",
    "# neg\n",
    "plt.hist(neg_probs, 50, normed=1, facecolor='green', alpha=0.75)\n",
    "plt.xlabel('predicted_values')\n",
    "plt.ylabel('Counts')\n",
    "plt.title('Probabilities for clicked cases')\n",
    "plt.grid(True)\n",
    "plt.show()"
   ]
  },
  {
   "cell_type": "markdown",
   "metadata": {
    "deletable": true,
    "editable": true
   },
   "source": [
    "#### Downsampling Code"
   ]
  },
  {
   "cell_type": "code",
   "execution_count": 28,
   "metadata": {
    "collapsed": false,
    "deletable": true,
    "editable": true
   },
   "outputs": [
    {
     "name": "stdout",
     "output_type": "stream",
     "text": [
      "Distribution of Pos and Neg cases of the down-sampled training data are: \n",
      " [Row(label=0.0, count=303), Row(label=1.0, count=164)]\n"
     ]
    }
   ],
   "source": [
    "from numpy.random import randint\n",
    "from pyspark.sql.functions import udf\n",
    "from pyspark.sql.types import IntegerType\n",
    " \n",
    "RATIO_ADJUST = 2.0 ## ratio of pos to neg in the df_subsample\n",
    " \n",
    "counts = df.select('binary').groupBy('binary').count().collect()\n",
    "higherBound = counts[0][1]\n",
    "TRESHOLD_TO_FILTER = int(RATIO_ADJUST * float(counts[1][1]) / counts[0][1] * higherBound)\n",
    " \n",
    "randGen = lambda x: randint(0, higherBound) if x == \"0\" else -1\n",
    " \n",
    "udfRandGen = udf(randGen, IntegerType())\n",
    "traindf = traindf.withColumn(\"randIndex\", udfRandGen(\"binary\"))\n",
    "df_subsample = traindf.filter(traindf['randIndex'] < TRESHOLD_TO_FILTER)\n",
    "df_subsample = df_subsample.drop('randIndex')\n",
    " \n",
    "print(\"Distribution of Pos and Neg cases of the down-sampled training data are: \\n\", df_subsample.groupBy(\"label\").count().take(3))"
   ]
  },
  {
   "cell_type": "markdown",
   "metadata": {
    "deletable": true,
    "editable": true
   },
   "source": [
    "Non-clicked instances are dropped from 4228 instances to 303 instances."
   ]
  },
  {
   "cell_type": "code",
   "execution_count": 29,
   "metadata": {
    "collapsed": false,
    "deletable": true,
    "editable": true
   },
   "outputs": [
    {
     "name": "stdout",
     "output_type": "stream",
     "text": [
      "Classifier trained in 63.939 seconds for 0.01% of dataset\n"
     ]
    }
   ],
   "source": [
    "t0 = time()\n",
    "cvModel_logistic_resampled = cv_logistic.fit(df_subsample)\n",
    "tt = time() - t0\n",
    "print (\"Classifier trained in {} seconds for 0.01% of dataset\".format(round(tt,3)))\n",
    "results_resampled = cvModel_logistic_resampled.transform(testdf)"
   ]
  },
  {
   "cell_type": "code",
   "execution_count": 24,
   "metadata": {
    "collapsed": false,
    "deletable": true,
    "editable": true
   },
   "outputs": [
    {
     "name": "stdout",
     "output_type": "stream",
     "text": [
      "Test Accuracy = 0.962905\n",
      "Test F1 = 0.944708\n",
      "Test Weighted Precision = 0.927186\n",
      "Test Weighted Recall = 0.962905\n",
      "Area under ROC curve = 0.691157252795123\n"
     ]
    }
   ],
   "source": [
    "# Logistic Regression (Regularized) BEFORE RESAMPLING\n",
    "results_logistic = cvModel_logistic.transform(testdf)\n",
    "evaluateModel(results_logistic, False)"
   ]
  },
  {
   "cell_type": "code",
   "execution_count": 30,
   "metadata": {
    "collapsed": false,
    "deletable": true,
    "editable": true,
    "scrolled": true
   },
   "outputs": [
    {
     "name": "stdout",
     "output_type": "stream",
     "text": [
      "Test Accuracy = 0.852142\n",
      "Test F1 = 0.889908\n",
      "Test Weighted Precision = 0.936969\n",
      "Test Weighted Recall = 0.852142\n",
      "Area under ROC curve = 0.6744514837260204\n"
     ]
    }
   ],
   "source": [
    "# Logistic Regression (Regularized) AFTER RESAMPLING\n",
    "evaluateModel(results_resampled, False)"
   ]
  },
  {
   "cell_type": "code",
   "execution_count": 31,
   "metadata": {
    "collapsed": false,
    "deletable": true,
    "editable": true
   },
   "outputs": [
    {
     "name": "stdout",
     "output_type": "stream",
     "text": [
      "|=================== Confusion matrix =======================\n",
      "    |#############| Predicted = 1   | Predicted = 0\n",
      "    |-------------+-------------------------------------------------\n",
      "    |Actual = 1   | 0.0               |   71.0\n",
      "    |Actual = 0   | 0.0               |   1843.0\n",
      "    |===============================================================\n",
      "    Sensitivity: 0.0\n",
      "    Specificity: 1.0\n",
      "    \n"
     ]
    }
   ],
   "source": [
    "# BEFORE RESAMPLING\n",
    "calculate_confusion_matrix(results_logistic)"
   ]
  },
  {
   "cell_type": "code",
   "execution_count": 32,
   "metadata": {
    "collapsed": false,
    "deletable": true,
    "editable": true
   },
   "outputs": [
    {
     "name": "stdout",
     "output_type": "stream",
     "text": [
      "|=================== Confusion matrix =======================\n",
      "    |#############| Predicted = 1   | Predicted = 0\n",
      "    |-------------+-------------------------------------------------\n",
      "    |Actual = 1   | 21.0               |   50.0\n",
      "    |Actual = 0   | 233.0               |   1610.0\n",
      "    |===============================================================\n",
      "    Sensitivity: 0.29577464788732394\n",
      "    Specificity: 0.8735756918068367\n",
      "    \n"
     ]
    }
   ],
   "source": [
    "# AFTER RESAMPLING\n",
    "calculate_confusion_matrix(results_resampled)"
   ]
  },
  {
   "cell_type": "code",
   "execution_count": 33,
   "metadata": {
    "collapsed": false,
    "deletable": true,
    "editable": true
   },
   "outputs": [
    {
     "data": {
      "image/png": "[encoded data removed]",
      "text/plain": [
       "<matplotlib.figure.Figure at 0x1a9b9325be0>"
      ]
     },
     "metadata": {},
     "output_type": "display_data"
    },
    {
     "data": {
      "image/png": "[encoded data removed]",
      "text/plain": [
       "<matplotlib.figure.Figure at 0x1a9b9fdfc18>"
      ]
     },
     "metadata": {},
     "output_type": "display_data"
    }
   ],
   "source": [
    "all_probs = results_resampled.select(\"probability\").collect()\n",
    "pos_probs = [i[0][0] for i in all_probs]\n",
    "neg_probs = [i[0][1] for i in all_probs]\n",
    " \n",
    "from matplotlib import pyplot as plt\n",
    "%matplotlib inline\n",
    " \n",
    "# pos\n",
    "plt.hist(pos_probs, 50, normed=1, facecolor='green', alpha=0.75)\n",
    "plt.xlabel('predicted_values')\n",
    "plt.ylabel('Counts')\n",
    "plt.title('Probabilities for non-clicked cases')\n",
    "plt.grid(True)\n",
    "plt.show()\n",
    " \n",
    "# neg\n",
    "plt.hist(neg_probs, 50, normed=1, facecolor='green', alpha=0.75)\n",
    "plt.xlabel('predicted_values')\n",
    "plt.ylabel('Counts')\n",
    "plt.title('Probabilities for clicked cases')\n",
    "plt.grid(True)\n",
    "plt.show()"
   ]
  },
  {
   "cell_type": "markdown",
   "metadata": {
    "deletable": true,
    "editable": true
   },
   "source": [
    "The probability distribution of predictions seems to have improved now. Although accuracy and AUC scores have dropped, the sensitivity score has improved substantially, from 0% to 21%, which means the model's predictive power on clicked instances has improved.\n",
    "\n",
    "In this short example, the distribution of postive and negative labels in the resampled training set has a ratio of 2:1, we can continue to tweak this ratio depending on the motivation of the click prediction project. For example, if we wish to place more emphasis on the prediction of minority samples (clicked), we can allocate a smaller ratio until we reach a fairly even probability distribution of positive and negative cases. "
   ]
  },
  {
   "cell_type": "markdown",
   "metadata": {
    "deletable": true,
    "editable": true
   },
   "source": [
    "---\n",
    "<a name=\"conclusion\"></a>\n",
    "### Conclusion\n"
   ]
  },
  {
   "cell_type": "markdown",
   "metadata": {
    "deletable": true,
    "editable": true
   },
   "source": [
    "The cluster was set up with the kind support from Microsoft Azure Sponsorship, that generously provided 60 cores for the expense of this project. However, building machine learning pipelines on 1.3Tb of data requires many more cores to run efficiently and manageably. The figure below was taken from Dunner et al.[24], a paper that compared the performance of logistic regression on several machine learning libraries, on the Criteo dataset.\n",
    "\n",
    "![logisticregcriteo](logisticregcriteo.png)\n",
    "\n",
    "In the chart above, Rambler Digital Solutions[25] deployed a Spark 2.1.0 with total 512 cores and 2TB of memory, and trained Logistic Regression on 4.2 billion training instances, taking approximately 100 minutes. Google[26] trained a Logistic Regression model using Tensorflow, and reported using 60 workers and 29 parameter machines for the same data, clocking a very competitive test logloss score and training time. Dünner's paper on Snap ML, a new machine learning library that supports GPU accelerators in a distributed environment, trained a Logistic Regression model using 16 GPUs, clocking an impressive score. This comparison is a clear indication of the competitiveness and innovation of the development in scalable machine learning.\n",
    "\n",
    "------\n",
    "\n",
    "With the 40 cores set up in this project, it was only possible to train on only a subset of the dataset. We still tried to emulate the existence of big data by working on millions of instances. The results of this project are summarised in the figure below.\n",
    "![logisticregcriteo](results.png)\n",
    "\n",
    "As expected, the number of worker nodes is held accountable for the running time of the creation of pipelines and model training, because more cores allows for a higher level of parallelism. Repartitioning time was constant throughout the benchmark test because repartitioning was executed with only one node, with zero parallelism. The accuracy and AUC scores between different data sizes were rather close, which could be explained by the similarities between datasets. Since they were sampled with the same seed, on purpose, we can observe how scalability in data affects results, which, in this case, it is clear that scalability did not yield a significant improvement in results. This is especially common when the nature of data does not 'explain' enough. When sampling, it can be easy to introduce bias by selecting a dataset that misrepresents or underrepresents the real cases, which will distort the results. To improve the quality of data, datasets should always be analyzed and preprocessed with the addition of newly engineered features that improve predictive power, as well as proper means of feature selection. The process of sampling should also be done with caution, drawing samples from multiple days could be one way to decrease the bias. \n",
    "\n",
    "There are many takeaways for this project, large scale machine learning tasks on Spark clusters requires knowledge not just methods to optimise predicitons, but also the Spark achitecture, YARN resource manager, and Spark tuning configurations. Cluster-mode in Spark requires sufficient comprehension to take advantage of the parallelism framework, which leads to proper tuning configurations to maximize the resources of the cluster. The Spark configurations used on this project was finalzed after a long series of testing, while validating the the efficiency of the memory allocation and parallelism of jobs between worker nodes. A handful of improvements could be made to this project, such as attempting a different set of classifiers to further explore the optimization of predicted scores, deploying more cores to better handle the scalability and parallelism, as well as attempting feature engineering and feature selection. \n",
    "\n",
    "As Mitchell Kapor once said,\n",
    ">  “Getting information off the Internet is like taking a drink from a firehose.”\n",
    "\n",
    "The learning process of machine learning certainly feels like taking a drink from a firehose, however, it was very rewarding and worthwhile. On the whole, this opportunity has granted an interesting outlook on the domain of large scale machine learning. \n",
    "\n"
   ]
  },
  {
   "cell_type": "markdown",
   "metadata": {
    "deletable": true,
    "editable": true
   },
   "source": [
    "---\n",
    "<a name=\"references\"></a>\n",
    "### References\n",
    "\n",
    "[1]: Junxuan Chen, B. S.-S. (n.d.). [Deep CTR Prediction in Display Advertising]( http://wnzhang.net/share/rtb-papers/deep-ctr-display.pdfhttp://wnzhang.net/share/rtb-papers/deep-ctr-display.pdf). *ACM Multimedia Conference 2016.*\n",
    "Hangzhou, China: Department of Computer Science and Engineering, Shanghai Jiao Tong University. \n",
    "\n",
    "[2]: [*Create an Apache Spark cluster in Azure HDInsight*.](https://docs.microsoft.com/en-gb/azure/hdinsight/spark/apache-spark-jupyter-spark-sql) (1 March, 2018). Retrieved from Microsoft.\n",
    "\n",
    "[3]: [Deep Dive into Spark SQL Catalyst Optimizer](https://databricks.com/blog/2015/04/13/deep-dive-into-spark-sqls-catalyst-optimizer.html). (13 April, 2015) Retrieved from Databricks.\n",
    "\n",
    "[4]: *[Project Tungsten: Bringing Apache Spark Closer to Bare Metal](https://databricks.com/blog/2015/04/28/project-tungsten-bringing-spark-closer-to-bare-metal.html)*. (28 April, 2015). Retrieved from Databricks.\n",
    "\n",
    "[5]: *[Using Azure ML to Build Clickthrough Prediction Models](https://blogs.technet.microsoft.com/machinelearning/2015/11/03/using-azure-ml-to-build-clickthrough-prediction-models/)*. (3 November, 2015). Retrieved from Microsoft Machine Learning Blog.\n",
    "\n",
    "[6]: Nandi, A. (2015). *Spark for Python Developers.* Packt Publishing.\n",
    "\n",
    "[7]: Pentreath, N. (2017). *[Feature Hashing for Scalable Machine Learning](https://databricks.com/session/feature-hashing-for-scalable-machine-learning)*. Retrieved from Databricks.\n",
    "\n",
    "[8]: Hui Zou, T. H. (2005). [Regularization and variable selection via the Elastic Net](http://citeseerx.ist.psu.edu/viewdoc/summary?doi=10.1.1.124.4696). *Journal of the Royal Statistical Society, Series B*, 301-320.\n",
    "\n",
    "[9]: *[Logistic Regression]( https://spark.apache.org/docs/latest/ml-classification-regression.html#multilayer-perceptron-classifier)*. (n.d.). Retrieved from Apache Spark.\n",
    "\n",
    "[10]: Fridley, J. (2010, February 22). [Tree models in R]( http://plantecology.syr.edu/fridley/bio793/cart.html ). Retrieved from Plantecology.\n",
    "\n",
    "[11]: Marius-Constantin, V. ,.-P. (2009). *[Multilayer Perceptron and Neural Networks](http://www.wseas.us/e-library/transactions/circuits/2009/29-485.pdf) .* Romania: Faculty of Electromechanical and Environment Engineering, University of Craiova. \n",
    "\n",
    "[12]: *[Multilayer Perceptron Classifier](https://spark.apache.org/docs/latest/ml-classification-regression.html#multilayer-perceptron-classifier)*. (n.d.). Retrieved from Apache Spark.\n",
    "\n",
    "[13]: Ulanov, A. (n.d.). *[A Scalable Implementation of Deep Learning on Spark](https://databricks.com/session/a-scalable-implementation-of-deep-learning-on-spark)*. Retrieved from Databricks.\n",
    "\n",
    "[14]: Longadge, R., Dongre, S. S., & Malik, L. (2013, February). Class Imbalance Problem in Data Mining: Review. International Journal of Computer Science and Network \n",
    "\n",
    "[15]: Malouf, Robert (2002). [*A comparison of algorithms for maximum entropy parameter estimation*](https://web.archive.org/web/20131101205929/http://acl.ldc.upenn.edu/W/W02/W02-2018.pdf). Proc. Sixth Conf. on Natural Language Learning (CoNLL). pp. 49–55. Archived from [the original](http://acl.ldc.upenn.edu/W/W02/W02-2018.pdf) on 2013-11-01.\n",
    "\n",
    "[16]: Wang, W. (9 June, 2016). *[PySpark tutorial – a case study using Random Forest on unbalanced dataset](https://weiminwang.blog/2016/06/09/pyspark-tutorial-building-a-random-forest-binary-classifier-on-unbalanced-dataset/)*. Retrieved from Weimin Wang Blog.\n",
    "\n",
    "[17]: Milan Vojnovic, C. Y. (1 March, 2018). *[Logistic Regression Pipeline](https://github.com/lse-st446/lectures/blob/master/week07/class/logistic_regression_pipeline.ipynb)*. Retrieved from Github.\n",
    "\n",
    "[18]: Nandi, A. (2015). *Spark for Python Developers.* Packt Publishing.\n",
    "\n",
    "[19]: Karau, H. (2016). *High Performance Spark: Best Practices for Scaling and Optimizing Apache Spark.* O′Reilly.\n",
    "\n",
    "[20]: Drabas, T. (2017). *Learning PySpark.* Packt Publishing.\n",
    "\n",
    "[21]: [*How-to: Tune Your Apache Spark Jobs (Part 2)*.](https://blog.cloudera.com/blog/2015/03/how-to-tune-your-apache-spark-jobs-part-2/) (30 March, 2018). Retrieved from Databricks.\n",
    "\n",
    "[22]: Gurbuzbalaban, M., Ozdaglar, A., Parrilo, P. A., & Vanli, N. (2017). [*When Cyclic Coordinate Descent Outperforms Randomized Coordinate Descent*.](https://papers.nips.cc/paper/7275-when-cyclic-coordinate-descent-outperforms-randomized-coordinate-descent.pdf) In Advances in Neural Information Processing Systems (pp. 7002-7010).\n",
    "\n",
    "[23]: Friedman, J., Hastie, T., & Tibshirani, R. (2010). Regularization paths for generalized linear models via coordinate descent. Journal of statistical software, 33(1), 1.\n",
    "\n",
    "[24]: Dünner, C., Parnell, T., Sarigiannis, D., Ioannou, N., & Pozidis, H. (2018). [*Snap Machine Learning*](https://arxiv.org/pdf/1803.06333.pdf). arXiv preprint arXiv:1803.06333.\n",
    "\n",
    "[25]:  Rambler Digital Solutions. 2017. [*criteo-1tb-benchmark*](https://github.com/rambler-digital-solutions/criteo-1tb-benchmark). (2017). \n",
    "\n",
    "[26]: Andreas Sterbenz. 2017. [*Using Google Cloud Machine Learning to predict clicks at scale.*](https://cloud.google.com/blog/big-data/2017/02/using-google-cloud-machine-learning-to-predict-clicks-at-scale) Retrieved from Google.\n",
    "\n",
    "[27]: Umbertogriffo (2018). [*Apache Spark - Best Practices and Tuning*](https://legacy.gitbook.com/book/umbertogriffo/apache-spark-best-practices-and-tuning/details). Retrieved from Gitbook."
   ]
  }
 ],
 "metadata": {
  "kernelspec": {
   "display_name": "Python 3",
   "language": "python",
   "name": "python3"
  },
  "language_info": {
   "codemirror_mode": {
    "name": "ipython",
    "version": 3
   },
   "file_extension": ".py",
   "mimetype": "text/x-python",
   "name": "python",
   "nbconvert_exporter": "python",
   "pygments_lexer": "ipython3",
   "version": "3.6.3"
  }
 },
 "nbformat": 4,
 "nbformat_minor": 2
}
